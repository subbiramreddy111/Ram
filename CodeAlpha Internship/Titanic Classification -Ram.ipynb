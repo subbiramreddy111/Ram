{
 "cells": [
  {
   "cell_type": "code",
   "execution_count": 471,
   "id": "bdfc88ea",
   "metadata": {},
   "outputs": [],
   "source": [
    "import numpy as np\n",
    "import pandas as pd\n",
    "import matplotlib.pyplot as plt\n",
    "import seaborn as sns\n",
    "import warnings\n",
    "warnings.filterwarnings('ignore')\n",
    "from sklearn.model_selection import train_test_split\n",
    "from sklearn.preprocessing import StandardScaler"
   ]
  },
  {
   "cell_type": "markdown",
   "id": "86bd6b26",
   "metadata": {},
   "source": [
    "## Data Dictionary"
   ]
  },
  {
   "cell_type": "raw",
   "id": "324928e1",
   "metadata": {},
   "source": [
    "1.PassengerId: A unique identifier for each passenger.\n",
    "    \n",
    "2.Survived: Indicates whether the passenger survived or not.\n",
    "\n",
    "Values: 0 = No, 1 = Yes (1= survived, 0= not survived)\n",
    "    \n",
    "3.Pclass: Ticket class, representing the socio-economic status of the passenger.\n",
    "\n",
    "Values: 1 = Upper class, 2 = Middle class, 3 = Lower class\n",
    "    \n",
    "4.Name: The name of the passenger.\n",
    "    \n",
    "5.Sex:Gender of the passenger.\n",
    "\n",
    "Values: Male, Female\n",
    "    \n",
    "6.Age:Age of the passenger.\n",
    "    \n",
    "7.SibSp: Number of siblings or spouses aboard the Titanic.\n",
    "    \n",
    "8.Parch: Number of parents or children aboard the Titanic.\n",
    "    \n",
    "9.Ticket: Ticket number.\n",
    "    \n",
    "10.Fare: Passenger fare (ticket price).\n",
    "    \n",
    "11.Cabin: Cabin number where the passenger stayed.\n",
    "    \n",
    "12.Embarked: Port of embarkation.\n",
    "\n",
    "Values: C = Cherbourg, Q = Queenstown, S = Southampton"
   ]
  },
  {
   "cell_type": "code",
   "execution_count": 472,
   "id": "a3951e1b",
   "metadata": {},
   "outputs": [
    {
     "data": {
      "text/html": [
       "<div>\n",
       "<style scoped>\n",
       "    .dataframe tbody tr th:only-of-type {\n",
       "        vertical-align: middle;\n",
       "    }\n",
       "\n",
       "    .dataframe tbody tr th {\n",
       "        vertical-align: top;\n",
       "    }\n",
       "\n",
       "    .dataframe thead th {\n",
       "        text-align: right;\n",
       "    }\n",
       "</style>\n",
       "<table border=\"1\" class=\"dataframe\">\n",
       "  <thead>\n",
       "    <tr style=\"text-align: right;\">\n",
       "      <th></th>\n",
       "      <th>PassengerId</th>\n",
       "      <th>Survived</th>\n",
       "      <th>Pclass</th>\n",
       "      <th>Name</th>\n",
       "      <th>Sex</th>\n",
       "      <th>Age</th>\n",
       "      <th>SibSp</th>\n",
       "      <th>Parch</th>\n",
       "      <th>Ticket</th>\n",
       "      <th>Fare</th>\n",
       "      <th>Cabin</th>\n",
       "      <th>Embarked</th>\n",
       "    </tr>\n",
       "  </thead>\n",
       "  <tbody>\n",
       "    <tr>\n",
       "      <th>0</th>\n",
       "      <td>1</td>\n",
       "      <td>0</td>\n",
       "      <td>3</td>\n",
       "      <td>Braund, Mr. Owen Harris</td>\n",
       "      <td>male</td>\n",
       "      <td>22.0</td>\n",
       "      <td>1</td>\n",
       "      <td>0</td>\n",
       "      <td>A/5 21171</td>\n",
       "      <td>7.2500</td>\n",
       "      <td>NaN</td>\n",
       "      <td>S</td>\n",
       "    </tr>\n",
       "    <tr>\n",
       "      <th>1</th>\n",
       "      <td>2</td>\n",
       "      <td>1</td>\n",
       "      <td>1</td>\n",
       "      <td>Cumings, Mrs. John Bradley (Florence Briggs Th...</td>\n",
       "      <td>female</td>\n",
       "      <td>38.0</td>\n",
       "      <td>1</td>\n",
       "      <td>0</td>\n",
       "      <td>PC 17599</td>\n",
       "      <td>71.2833</td>\n",
       "      <td>C85</td>\n",
       "      <td>C</td>\n",
       "    </tr>\n",
       "    <tr>\n",
       "      <th>2</th>\n",
       "      <td>3</td>\n",
       "      <td>1</td>\n",
       "      <td>3</td>\n",
       "      <td>Heikkinen, Miss. Laina</td>\n",
       "      <td>female</td>\n",
       "      <td>26.0</td>\n",
       "      <td>0</td>\n",
       "      <td>0</td>\n",
       "      <td>STON/O2. 3101282</td>\n",
       "      <td>7.9250</td>\n",
       "      <td>NaN</td>\n",
       "      <td>S</td>\n",
       "    </tr>\n",
       "    <tr>\n",
       "      <th>3</th>\n",
       "      <td>4</td>\n",
       "      <td>1</td>\n",
       "      <td>1</td>\n",
       "      <td>Futrelle, Mrs. Jacques Heath (Lily May Peel)</td>\n",
       "      <td>female</td>\n",
       "      <td>35.0</td>\n",
       "      <td>1</td>\n",
       "      <td>0</td>\n",
       "      <td>113803</td>\n",
       "      <td>53.1000</td>\n",
       "      <td>C123</td>\n",
       "      <td>S</td>\n",
       "    </tr>\n",
       "    <tr>\n",
       "      <th>4</th>\n",
       "      <td>5</td>\n",
       "      <td>0</td>\n",
       "      <td>3</td>\n",
       "      <td>Allen, Mr. William Henry</td>\n",
       "      <td>male</td>\n",
       "      <td>35.0</td>\n",
       "      <td>0</td>\n",
       "      <td>0</td>\n",
       "      <td>373450</td>\n",
       "      <td>8.0500</td>\n",
       "      <td>NaN</td>\n",
       "      <td>S</td>\n",
       "    </tr>\n",
       "    <tr>\n",
       "      <th>5</th>\n",
       "      <td>6</td>\n",
       "      <td>0</td>\n",
       "      <td>3</td>\n",
       "      <td>Moran, Mr. James</td>\n",
       "      <td>male</td>\n",
       "      <td>NaN</td>\n",
       "      <td>0</td>\n",
       "      <td>0</td>\n",
       "      <td>330877</td>\n",
       "      <td>8.4583</td>\n",
       "      <td>NaN</td>\n",
       "      <td>Q</td>\n",
       "    </tr>\n",
       "    <tr>\n",
       "      <th>6</th>\n",
       "      <td>7</td>\n",
       "      <td>0</td>\n",
       "      <td>1</td>\n",
       "      <td>McCarthy, Mr. Timothy J</td>\n",
       "      <td>male</td>\n",
       "      <td>54.0</td>\n",
       "      <td>0</td>\n",
       "      <td>0</td>\n",
       "      <td>17463</td>\n",
       "      <td>51.8625</td>\n",
       "      <td>E46</td>\n",
       "      <td>S</td>\n",
       "    </tr>\n",
       "    <tr>\n",
       "      <th>7</th>\n",
       "      <td>8</td>\n",
       "      <td>0</td>\n",
       "      <td>3</td>\n",
       "      <td>Palsson, Master. Gosta Leonard</td>\n",
       "      <td>male</td>\n",
       "      <td>2.0</td>\n",
       "      <td>3</td>\n",
       "      <td>1</td>\n",
       "      <td>349909</td>\n",
       "      <td>21.0750</td>\n",
       "      <td>NaN</td>\n",
       "      <td>S</td>\n",
       "    </tr>\n",
       "    <tr>\n",
       "      <th>8</th>\n",
       "      <td>9</td>\n",
       "      <td>1</td>\n",
       "      <td>3</td>\n",
       "      <td>Johnson, Mrs. Oscar W (Elisabeth Vilhelmina Berg)</td>\n",
       "      <td>female</td>\n",
       "      <td>27.0</td>\n",
       "      <td>0</td>\n",
       "      <td>2</td>\n",
       "      <td>347742</td>\n",
       "      <td>11.1333</td>\n",
       "      <td>NaN</td>\n",
       "      <td>S</td>\n",
       "    </tr>\n",
       "    <tr>\n",
       "      <th>9</th>\n",
       "      <td>10</td>\n",
       "      <td>1</td>\n",
       "      <td>2</td>\n",
       "      <td>Nasser, Mrs. Nicholas (Adele Achem)</td>\n",
       "      <td>female</td>\n",
       "      <td>14.0</td>\n",
       "      <td>1</td>\n",
       "      <td>0</td>\n",
       "      <td>237736</td>\n",
       "      <td>30.0708</td>\n",
       "      <td>NaN</td>\n",
       "      <td>C</td>\n",
       "    </tr>\n",
       "  </tbody>\n",
       "</table>\n",
       "</div>"
      ],
      "text/plain": [
       "   PassengerId  Survived  Pclass  \\\n",
       "0            1         0       3   \n",
       "1            2         1       1   \n",
       "2            3         1       3   \n",
       "3            4         1       1   \n",
       "4            5         0       3   \n",
       "5            6         0       3   \n",
       "6            7         0       1   \n",
       "7            8         0       3   \n",
       "8            9         1       3   \n",
       "9           10         1       2   \n",
       "\n",
       "                                                Name     Sex   Age  SibSp  \\\n",
       "0                            Braund, Mr. Owen Harris    male  22.0      1   \n",
       "1  Cumings, Mrs. John Bradley (Florence Briggs Th...  female  38.0      1   \n",
       "2                             Heikkinen, Miss. Laina  female  26.0      0   \n",
       "3       Futrelle, Mrs. Jacques Heath (Lily May Peel)  female  35.0      1   \n",
       "4                           Allen, Mr. William Henry    male  35.0      0   \n",
       "5                                   Moran, Mr. James    male   NaN      0   \n",
       "6                            McCarthy, Mr. Timothy J    male  54.0      0   \n",
       "7                     Palsson, Master. Gosta Leonard    male   2.0      3   \n",
       "8  Johnson, Mrs. Oscar W (Elisabeth Vilhelmina Berg)  female  27.0      0   \n",
       "9                Nasser, Mrs. Nicholas (Adele Achem)  female  14.0      1   \n",
       "\n",
       "   Parch            Ticket     Fare Cabin Embarked  \n",
       "0      0         A/5 21171   7.2500   NaN        S  \n",
       "1      0          PC 17599  71.2833   C85        C  \n",
       "2      0  STON/O2. 3101282   7.9250   NaN        S  \n",
       "3      0            113803  53.1000  C123        S  \n",
       "4      0            373450   8.0500   NaN        S  \n",
       "5      0            330877   8.4583   NaN        Q  \n",
       "6      0             17463  51.8625   E46        S  \n",
       "7      1            349909  21.0750   NaN        S  \n",
       "8      2            347742  11.1333   NaN        S  \n",
       "9      0            237736  30.0708   NaN        C  "
      ]
     },
     "execution_count": 472,
     "metadata": {},
     "output_type": "execute_result"
    }
   ],
   "source": [
    "data=pd.read_csv('C:\\\\Users\\\\Subbu\\\\Desktop\\\\codealpha intern\\\\titanic.csv')\n",
    "data.head(10)"
   ]
  },
  {
   "cell_type": "code",
   "execution_count": 473,
   "id": "2d1cbca8",
   "metadata": {},
   "outputs": [
    {
     "data": {
      "text/plain": [
       "(891, 12)"
      ]
     },
     "execution_count": 473,
     "metadata": {},
     "output_type": "execute_result"
    }
   ],
   "source": [
    "data.shape"
   ]
  },
  {
   "cell_type": "markdown",
   "id": "b34c6ee1",
   "metadata": {},
   "source": [
    "We are having 891 records and 12 features"
   ]
  },
  {
   "cell_type": "code",
   "execution_count": 474,
   "id": "18d110a4",
   "metadata": {
    "scrolled": false
   },
   "outputs": [
    {
     "name": "stdout",
     "output_type": "stream",
     "text": [
      "<class 'pandas.core.frame.DataFrame'>\n",
      "RangeIndex: 891 entries, 0 to 890\n",
      "Data columns (total 12 columns):\n",
      " #   Column       Non-Null Count  Dtype  \n",
      "---  ------       --------------  -----  \n",
      " 0   PassengerId  891 non-null    int64  \n",
      " 1   Survived     891 non-null    int64  \n",
      " 2   Pclass       891 non-null    int64  \n",
      " 3   Name         891 non-null    object \n",
      " 4   Sex          891 non-null    object \n",
      " 5   Age          714 non-null    float64\n",
      " 6   SibSp        891 non-null    int64  \n",
      " 7   Parch        891 non-null    int64  \n",
      " 8   Ticket       891 non-null    object \n",
      " 9   Fare         891 non-null    float64\n",
      " 10  Cabin        204 non-null    object \n",
      " 11  Embarked     889 non-null    object \n",
      "dtypes: float64(2), int64(5), object(5)\n",
      "memory usage: 83.7+ KB\n"
     ]
    }
   ],
   "source": [
    "data.info()"
   ]
  },
  {
   "cell_type": "markdown",
   "id": "26a1d3d1",
   "metadata": {},
   "source": [
    "There are 5 categorical columns and 7 numerical columns"
   ]
  },
  {
   "cell_type": "markdown",
   "id": "da0a5326",
   "metadata": {},
   "source": [
    "## Checking for the null values"
   ]
  },
  {
   "cell_type": "code",
   "execution_count": 475,
   "id": "02040a0b",
   "metadata": {},
   "outputs": [
    {
     "data": {
      "text/plain": [
       "PassengerId      0\n",
       "Survived         0\n",
       "Pclass           0\n",
       "Name             0\n",
       "Sex              0\n",
       "Age            177\n",
       "SibSp            0\n",
       "Parch            0\n",
       "Ticket           0\n",
       "Fare             0\n",
       "Cabin          687\n",
       "Embarked         2\n",
       "dtype: int64"
      ]
     },
     "execution_count": 475,
     "metadata": {},
     "output_type": "execute_result"
    }
   ],
   "source": [
    "data.isnull().sum()"
   ]
  },
  {
   "cell_type": "markdown",
   "id": "e1d36d5b",
   "metadata": {},
   "source": [
    "In the columns Age and deck there are null values."
   ]
  },
  {
   "cell_type": "markdown",
   "id": "74c4bf5e",
   "metadata": {},
   "source": [
    "### Five point summary for numerical columns"
   ]
  },
  {
   "cell_type": "code",
   "execution_count": 476,
   "id": "34f497b7",
   "metadata": {},
   "outputs": [
    {
     "data": {
      "text/html": [
       "<div>\n",
       "<style scoped>\n",
       "    .dataframe tbody tr th:only-of-type {\n",
       "        vertical-align: middle;\n",
       "    }\n",
       "\n",
       "    .dataframe tbody tr th {\n",
       "        vertical-align: top;\n",
       "    }\n",
       "\n",
       "    .dataframe thead th {\n",
       "        text-align: right;\n",
       "    }\n",
       "</style>\n",
       "<table border=\"1\" class=\"dataframe\">\n",
       "  <thead>\n",
       "    <tr style=\"text-align: right;\">\n",
       "      <th></th>\n",
       "      <th>PassengerId</th>\n",
       "      <th>Survived</th>\n",
       "      <th>Pclass</th>\n",
       "      <th>Age</th>\n",
       "      <th>SibSp</th>\n",
       "      <th>Parch</th>\n",
       "      <th>Fare</th>\n",
       "    </tr>\n",
       "  </thead>\n",
       "  <tbody>\n",
       "    <tr>\n",
       "      <th>count</th>\n",
       "      <td>891.000000</td>\n",
       "      <td>891.000000</td>\n",
       "      <td>891.000000</td>\n",
       "      <td>714.000000</td>\n",
       "      <td>891.000000</td>\n",
       "      <td>891.000000</td>\n",
       "      <td>891.000000</td>\n",
       "    </tr>\n",
       "    <tr>\n",
       "      <th>mean</th>\n",
       "      <td>446.000000</td>\n",
       "      <td>0.383838</td>\n",
       "      <td>2.308642</td>\n",
       "      <td>29.699118</td>\n",
       "      <td>0.523008</td>\n",
       "      <td>0.381594</td>\n",
       "      <td>32.204208</td>\n",
       "    </tr>\n",
       "    <tr>\n",
       "      <th>std</th>\n",
       "      <td>257.353842</td>\n",
       "      <td>0.486592</td>\n",
       "      <td>0.836071</td>\n",
       "      <td>14.526497</td>\n",
       "      <td>1.102743</td>\n",
       "      <td>0.806057</td>\n",
       "      <td>49.693429</td>\n",
       "    </tr>\n",
       "    <tr>\n",
       "      <th>min</th>\n",
       "      <td>1.000000</td>\n",
       "      <td>0.000000</td>\n",
       "      <td>1.000000</td>\n",
       "      <td>0.420000</td>\n",
       "      <td>0.000000</td>\n",
       "      <td>0.000000</td>\n",
       "      <td>0.000000</td>\n",
       "    </tr>\n",
       "    <tr>\n",
       "      <th>25%</th>\n",
       "      <td>223.500000</td>\n",
       "      <td>0.000000</td>\n",
       "      <td>2.000000</td>\n",
       "      <td>20.125000</td>\n",
       "      <td>0.000000</td>\n",
       "      <td>0.000000</td>\n",
       "      <td>7.910400</td>\n",
       "    </tr>\n",
       "    <tr>\n",
       "      <th>50%</th>\n",
       "      <td>446.000000</td>\n",
       "      <td>0.000000</td>\n",
       "      <td>3.000000</td>\n",
       "      <td>28.000000</td>\n",
       "      <td>0.000000</td>\n",
       "      <td>0.000000</td>\n",
       "      <td>14.454200</td>\n",
       "    </tr>\n",
       "    <tr>\n",
       "      <th>75%</th>\n",
       "      <td>668.500000</td>\n",
       "      <td>1.000000</td>\n",
       "      <td>3.000000</td>\n",
       "      <td>38.000000</td>\n",
       "      <td>1.000000</td>\n",
       "      <td>0.000000</td>\n",
       "      <td>31.000000</td>\n",
       "    </tr>\n",
       "    <tr>\n",
       "      <th>max</th>\n",
       "      <td>891.000000</td>\n",
       "      <td>1.000000</td>\n",
       "      <td>3.000000</td>\n",
       "      <td>80.000000</td>\n",
       "      <td>8.000000</td>\n",
       "      <td>6.000000</td>\n",
       "      <td>512.329200</td>\n",
       "    </tr>\n",
       "  </tbody>\n",
       "</table>\n",
       "</div>"
      ],
      "text/plain": [
       "       PassengerId    Survived      Pclass         Age       SibSp  \\\n",
       "count   891.000000  891.000000  891.000000  714.000000  891.000000   \n",
       "mean    446.000000    0.383838    2.308642   29.699118    0.523008   \n",
       "std     257.353842    0.486592    0.836071   14.526497    1.102743   \n",
       "min       1.000000    0.000000    1.000000    0.420000    0.000000   \n",
       "25%     223.500000    0.000000    2.000000   20.125000    0.000000   \n",
       "50%     446.000000    0.000000    3.000000   28.000000    0.000000   \n",
       "75%     668.500000    1.000000    3.000000   38.000000    1.000000   \n",
       "max     891.000000    1.000000    3.000000   80.000000    8.000000   \n",
       "\n",
       "            Parch        Fare  \n",
       "count  891.000000  891.000000  \n",
       "mean     0.381594   32.204208  \n",
       "std      0.806057   49.693429  \n",
       "min      0.000000    0.000000  \n",
       "25%      0.000000    7.910400  \n",
       "50%      0.000000   14.454200  \n",
       "75%      0.000000   31.000000  \n",
       "max      6.000000  512.329200  "
      ]
     },
     "execution_count": 476,
     "metadata": {},
     "output_type": "execute_result"
    }
   ],
   "source": [
    "data.describe()"
   ]
  },
  {
   "cell_type": "markdown",
   "id": "ff3f8c93",
   "metadata": {},
   "source": [
    "### Five point summary for cateegorical columns"
   ]
  },
  {
   "cell_type": "code",
   "execution_count": 477,
   "id": "8cdf46d4",
   "metadata": {},
   "outputs": [
    {
     "data": {
      "text/html": [
       "<div>\n",
       "<style scoped>\n",
       "    .dataframe tbody tr th:only-of-type {\n",
       "        vertical-align: middle;\n",
       "    }\n",
       "\n",
       "    .dataframe tbody tr th {\n",
       "        vertical-align: top;\n",
       "    }\n",
       "\n",
       "    .dataframe thead th {\n",
       "        text-align: right;\n",
       "    }\n",
       "</style>\n",
       "<table border=\"1\" class=\"dataframe\">\n",
       "  <thead>\n",
       "    <tr style=\"text-align: right;\">\n",
       "      <th></th>\n",
       "      <th>Name</th>\n",
       "      <th>Sex</th>\n",
       "      <th>Ticket</th>\n",
       "      <th>Cabin</th>\n",
       "      <th>Embarked</th>\n",
       "    </tr>\n",
       "  </thead>\n",
       "  <tbody>\n",
       "    <tr>\n",
       "      <th>count</th>\n",
       "      <td>891</td>\n",
       "      <td>891</td>\n",
       "      <td>891</td>\n",
       "      <td>204</td>\n",
       "      <td>889</td>\n",
       "    </tr>\n",
       "    <tr>\n",
       "      <th>unique</th>\n",
       "      <td>891</td>\n",
       "      <td>2</td>\n",
       "      <td>681</td>\n",
       "      <td>147</td>\n",
       "      <td>3</td>\n",
       "    </tr>\n",
       "    <tr>\n",
       "      <th>top</th>\n",
       "      <td>Braund, Mr. Owen Harris</td>\n",
       "      <td>male</td>\n",
       "      <td>347082</td>\n",
       "      <td>B96 B98</td>\n",
       "      <td>S</td>\n",
       "    </tr>\n",
       "    <tr>\n",
       "      <th>freq</th>\n",
       "      <td>1</td>\n",
       "      <td>577</td>\n",
       "      <td>7</td>\n",
       "      <td>4</td>\n",
       "      <td>644</td>\n",
       "    </tr>\n",
       "  </tbody>\n",
       "</table>\n",
       "</div>"
      ],
      "text/plain": [
       "                           Name   Sex  Ticket    Cabin Embarked\n",
       "count                       891   891     891      204      889\n",
       "unique                      891     2     681      147        3\n",
       "top     Braund, Mr. Owen Harris  male  347082  B96 B98        S\n",
       "freq                          1   577       7        4      644"
      ]
     },
     "execution_count": 477,
     "metadata": {},
     "output_type": "execute_result"
    }
   ],
   "source": [
    "data.describe(include='object')"
   ]
  },
  {
   "cell_type": "code",
   "execution_count": 478,
   "id": "f6413e8c",
   "metadata": {
    "scrolled": false
   },
   "outputs": [
    {
     "data": {
      "text/plain": [
       "0    549\n",
       "1    342\n",
       "Name: Survived, dtype: int64"
      ]
     },
     "execution_count": 478,
     "metadata": {},
     "output_type": "execute_result"
    }
   ],
   "source": [
    "values=data['Survived'].value_counts()\n",
    "values"
   ]
  },
  {
   "cell_type": "markdown",
   "id": "da65fc15",
   "metadata": {},
   "source": [
    "#### 1.The value of 0 represents people who are not survived\n",
    "\n",
    "#### 2.The value of 1 represents people who are survived"
   ]
  },
  {
   "cell_type": "code",
   "execution_count": 479,
   "id": "dc99171d",
   "metadata": {
    "scrolled": false
   },
   "outputs": [
    {
     "data": {
      "image/png": "[encoded data removed]",
      "text/plain": [
       "<Figure size 576x576 with 1 Axes>"
      ]
     },
     "metadata": {},
     "output_type": "display_data"
    }
   ],
   "source": [
    "plt.figure(figsize=(8,8))\n",
    "colors = ['skyblue', 'lightcoral', 'lightgreen']\n",
    "plt.pie(x=values,labels=['Not survived', 'Survived'], autopct='%.2f%%', colors=colors)\n",
    "plt.show()"
   ]
  },
  {
   "cell_type": "markdown",
   "id": "aaf33faa",
   "metadata": {},
   "source": [
    "The above plot says that 61.62% people are not survived and 38.38% people are survived"
   ]
  },
  {
   "cell_type": "markdown",
   "id": "9811650e",
   "metadata": {},
   "source": [
    "## Univariate Analysis"
   ]
  },
  {
   "cell_type": "markdown",
   "id": "c1835964",
   "metadata": {},
   "source": [
    "## Sex"
   ]
  },
  {
   "cell_type": "code",
   "execution_count": 480,
   "id": "a5d6d478",
   "metadata": {},
   "outputs": [
    {
     "data": {
      "text/plain": [
       "male      577\n",
       "female    314\n",
       "Name: Sex, dtype: int64"
      ]
     },
     "execution_count": 480,
     "metadata": {},
     "output_type": "execute_result"
    }
   ],
   "source": [
    "data['Sex'].value_counts()"
   ]
  },
  {
   "cell_type": "code",
   "execution_count": 481,
   "id": "ae4d00f6",
   "metadata": {
    "scrolled": false
   },
   "outputs": [
    {
     "data": {
      "image/png": "[encoded data removed]",
      "text/plain": [
       "<Figure size 576x576 with 1 Axes>"
      ]
     },
     "metadata": {
      "needs_background": "light"
     },
     "output_type": "display_data"
    }
   ],
   "source": [
    "plt.figure(figsize=(8,8))\n",
    "sns.countplot(data['Sex'], palette='rainbow')\n",
    "plt.show()"
   ]
  },
  {
   "cell_type": "markdown",
   "id": "b624a700",
   "metadata": {},
   "source": [
    "There are maximum males with a count of 577 and less females with count of 314."
   ]
  },
  {
   "cell_type": "code",
   "execution_count": 482,
   "id": "6e324e0b",
   "metadata": {},
   "outputs": [
    {
     "data": {
      "text/plain": [
       "3    491\n",
       "1    216\n",
       "2    184\n",
       "Name: Pclass, dtype: int64"
      ]
     },
     "execution_count": 482,
     "metadata": {},
     "output_type": "execute_result"
    }
   ],
   "source": [
    "data['Pclass'].value_counts()"
   ]
  },
  {
   "cell_type": "code",
   "execution_count": 483,
   "id": "9aa5dc6a",
   "metadata": {},
   "outputs": [
    {
     "data": {
      "image/png": "[encoded data removed]",
      "text/plain": [
       "<Figure size 576x576 with 1 Axes>"
      ]
     },
     "metadata": {
      "needs_background": "light"
     },
     "output_type": "display_data"
    }
   ],
   "source": [
    "plt.figure(figsize=(8,8))\n",
    "sns.countplot(data['Pclass'], palette='rainbow')\n",
    "plt.show()"
   ]
  },
  {
   "cell_type": "markdown",
   "id": "616b1530",
   "metadata": {},
   "source": [
    "The maximum passengers are in 3rd P class with a count of 491."
   ]
  },
  {
   "cell_type": "markdown",
   "id": "3f8d1410",
   "metadata": {},
   "source": [
    "## Siblings/ Spouses"
   ]
  },
  {
   "cell_type": "code",
   "execution_count": 484,
   "id": "560a15ff",
   "metadata": {},
   "outputs": [
    {
     "data": {
      "text/plain": [
       "0    608\n",
       "1    209\n",
       "2     28\n",
       "4     18\n",
       "3     16\n",
       "8      7\n",
       "5      5\n",
       "Name: SibSp, dtype: int64"
      ]
     },
     "execution_count": 484,
     "metadata": {},
     "output_type": "execute_result"
    }
   ],
   "source": [
    "data['SibSp'].value_counts()"
   ]
  },
  {
   "cell_type": "code",
   "execution_count": 485,
   "id": "37aaac21",
   "metadata": {
    "scrolled": false
   },
   "outputs": [
    {
     "data": {
      "image/png": "[encoded data removed]",
      "text/plain": [
       "<Figure size 576x576 with 1 Axes>"
      ]
     },
     "metadata": {
      "needs_background": "light"
     },
     "output_type": "display_data"
    }
   ],
   "source": [
    "plt.figure(figsize=(8,8))\n",
    "sns.countplot(data['SibSp'], palette='rainbow')\n",
    "plt.show()"
   ]
  },
  {
   "cell_type": "markdown",
   "id": "57db675e",
   "metadata": {},
   "source": [
    "1.The passenger count having no siblings/spouses is 608.\n",
    "\n",
    "2.The passenger count having 1 sibling is 209.\n",
    "\n",
    "3.The passenger coint having 2 sibling is 28.\n",
    "\n",
    "4.The passenger having 4 siblings or spouses is 18."
   ]
  },
  {
   "cell_type": "markdown",
   "id": "8067a020",
   "metadata": {},
   "source": [
    "## Parents / Children"
   ]
  },
  {
   "cell_type": "code",
   "execution_count": 486,
   "id": "952d7d8a",
   "metadata": {},
   "outputs": [
    {
     "data": {
      "text/plain": [
       "0    678\n",
       "1    118\n",
       "2     80\n",
       "5      5\n",
       "3      5\n",
       "4      4\n",
       "6      1\n",
       "Name: Parch, dtype: int64"
      ]
     },
     "execution_count": 486,
     "metadata": {},
     "output_type": "execute_result"
    }
   ],
   "source": [
    "data['Parch'].value_counts()"
   ]
  },
  {
   "cell_type": "code",
   "execution_count": 487,
   "id": "aee34800",
   "metadata": {},
   "outputs": [
    {
     "data": {
      "image/png": "[encoded data removed]",
      "text/plain": [
       "<Figure size 576x576 with 1 Axes>"
      ]
     },
     "metadata": {
      "needs_background": "light"
     },
     "output_type": "display_data"
    }
   ],
   "source": [
    "plt.figure(figsize=(8,8))\n",
    "sns.countplot(data['Parch'], palette='rainbow')\n",
    "plt.show()"
   ]
  },
  {
   "cell_type": "markdown",
   "id": "3fdb6c7e",
   "metadata": {},
   "source": [
    "The count of passengers who are not having any parents or children in the titanic are more(678)."
   ]
  },
  {
   "cell_type": "markdown",
   "id": "28bca9a6",
   "metadata": {},
   "source": [
    "### Age"
   ]
  },
  {
   "cell_type": "code",
   "execution_count": 488,
   "id": "958ef2a8",
   "metadata": {},
   "outputs": [
    {
     "data": {
      "text/plain": [
       "24.00    30\n",
       "22.00    27\n",
       "18.00    26\n",
       "19.00    25\n",
       "28.00    25\n",
       "         ..\n",
       "36.50     1\n",
       "55.50     1\n",
       "0.92      1\n",
       "23.50     1\n",
       "74.00     1\n",
       "Name: Age, Length: 88, dtype: int64"
      ]
     },
     "execution_count": 488,
     "metadata": {},
     "output_type": "execute_result"
    }
   ],
   "source": [
    "data['Age'].value_counts()"
   ]
  },
  {
   "cell_type": "code",
   "execution_count": 489,
   "id": "dd27936c",
   "metadata": {},
   "outputs": [
    {
     "data": {
      "image/png": "[encoded data removed]",
      "text/plain": [
       "<Figure size 576x576 with 1 Axes>"
      ]
     },
     "metadata": {
      "needs_background": "light"
     },
     "output_type": "display_data"
    }
   ],
   "source": [
    "plt.figure(figsize=(8,8))\n",
    "sns.distplot(data['Age'], kde=True, color='green' )\n",
    "plt.show()"
   ]
  },
  {
   "cell_type": "markdown",
   "id": "9ba08a3a",
   "metadata": {},
   "source": [
    "1.There are maximum passengers with age 24 with a count of 30.\n",
    "\n",
    "2.The data is normally distributed."
   ]
  },
  {
   "cell_type": "markdown",
   "id": "ffb4b342",
   "metadata": {},
   "source": [
    "## Fare"
   ]
  },
  {
   "cell_type": "code",
   "execution_count": 490,
   "id": "4af0c0ca",
   "metadata": {},
   "outputs": [
    {
     "data": {
      "image/png": "[encoded data removed]",
      "text/plain": [
       "<Figure size 576x576 with 1 Axes>"
      ]
     },
     "metadata": {
      "needs_background": "light"
     },
     "output_type": "display_data"
    }
   ],
   "source": [
    "plt.figure(figsize=(8,8))\n",
    "sns.distplot(data['Fare'], kde=True, color='green' )\n",
    "plt.show()"
   ]
  },
  {
   "cell_type": "markdown",
   "id": "208b3017",
   "metadata": {},
   "source": [
    "In the above fare column distribution the data is right skewed (for some passengers the fares are extremely high).\n",
    "Hence, we can observe some outliers."
   ]
  },
  {
   "cell_type": "code",
   "execution_count": 491,
   "id": "7a3ec721",
   "metadata": {
    "scrolled": false
   },
   "outputs": [
    {
     "name": "stdout",
     "output_type": "stream",
     "text": [
      "PassengerId\n"
     ]
    },
    {
     "data": {
      "image/png": "[encoded data removed]",
      "text/plain": [
       "<Figure size 432x288 with 2 Axes>"
      ]
     },
     "metadata": {
      "needs_background": "light"
     },
     "output_type": "display_data"
    },
    {
     "name": "stdout",
     "output_type": "stream",
     "text": [
      "skew PassengerId 0.0\n",
      "kurt PassengerId -1.1999999999999997\n",
      "mean PassengerId 446.0\n",
      "median PassengerId 446.0\n",
      "mode PassengerId 1\n",
      "std PassengerId 257.3538420152301\n",
      "var PassengerId 66231.0\n",
      "Survived\n"
     ]
    },
    {
     "data": {
      "image/png": "[encoded data removed]",
      "text/plain": [
       "<Figure size 432x288 with 2 Axes>"
      ]
     },
     "metadata": {
      "needs_background": "light"
     },
     "output_type": "display_data"
    },
    {
     "name": "stdout",
     "output_type": "stream",
     "text": [
      "skew Survived 0.4785234382949897\n",
      "kurt Survived -1.775004671066304\n",
      "mean Survived 0.3838383838383838\n",
      "median Survived 0.0\n",
      "mode Survived 0\n",
      "std Survived 0.4865924542648585\n",
      "var Survived 0.2367722165474984\n",
      "Pclass\n"
     ]
    },
    {
     "data": {
      "image/png": "[encoded data removed]",
      "text/plain": [
       "<Figure size 432x288 with 2 Axes>"
      ]
     },
     "metadata": {
      "needs_background": "light"
     },
     "output_type": "display_data"
    },
    {
     "name": "stdout",
     "output_type": "stream",
     "text": [
      "skew Pclass -0.6305479068752845\n",
      "kurt Pclass -1.2800149715782825\n",
      "mean Pclass 2.308641975308642\n",
      "median Pclass 3.0\n",
      "mode Pclass 3\n",
      "std Pclass 0.8360712409770513\n",
      "var Pclass 0.6990151199889065\n",
      "Age\n"
     ]
    },
    {
     "data": {
      "image/png": "[encoded data removed]",
      "text/plain": [
       "<Figure size 432x288 with 2 Axes>"
      ]
     },
     "metadata": {
      "needs_background": "light"
     },
     "output_type": "display_data"
    },
    {
     "name": "stdout",
     "output_type": "stream",
     "text": [
      "skew Age 0.38910778230082704\n",
      "kurt Age 0.17827415364210353\n",
      "mean Age 29.69911764705882\n",
      "median Age 28.0\n",
      "mode Age 24.0\n",
      "std Age 14.526497332334044\n",
      "var Age 211.0191247463081\n",
      "SibSp\n"
     ]
    },
    {
     "data": {
      "image/png": "[encoded data removed]",
      "text/plain": [
       "<Figure size 432x288 with 2 Axes>"
      ]
     },
     "metadata": {
      "needs_background": "light"
     },
     "output_type": "display_data"
    },
    {
     "name": "stdout",
     "output_type": "stream",
     "text": [
      "skew SibSp 3.6953517271630565\n",
      "kurt SibSp 17.880419726645968\n",
      "mean SibSp 0.5230078563411896\n",
      "median SibSp 0.0\n",
      "mode SibSp 0\n",
      "std SibSp 1.1027434322934275\n",
      "var SibSp 1.2160430774662894\n",
      "Parch\n"
     ]
    },
    {
     "data": {
      "image/png": "[encoded data removed]",
      "text/plain": [
       "<Figure size 432x288 with 2 Axes>"
      ]
     },
     "metadata": {
      "needs_background": "light"
     },
     "output_type": "display_data"
    },
    {
     "name": "stdout",
     "output_type": "stream",
     "text": [
      "skew Parch 2.7491170471010933\n",
      "kurt Parch 9.778125179021648\n",
      "mean Parch 0.38159371492704824\n",
      "median Parch 0.0\n",
      "mode Parch 0\n",
      "std Parch 0.8060572211299559\n",
      "var Parch 0.6497282437357467\n",
      "Fare\n"
     ]
    },
    {
     "data": {
      "image/png": "[encoded data removed]",
      "text/plain": [
       "<Figure size 432x288 with 2 Axes>"
      ]
     },
     "metadata": {
      "needs_background": "light"
     },
     "output_type": "display_data"
    },
    {
     "name": "stdout",
     "output_type": "stream",
     "text": [
      "skew Fare 4.787316519674893\n",
      "kurt Fare 33.39814088089868\n",
      "mean Fare 32.2042079685746\n",
      "median Fare 14.4542\n",
      "mode Fare 8.05\n",
      "std Fare 49.693428597180905\n",
      "var Fare 2469.436845743117\n"
     ]
    }
   ],
   "source": [
    "for i in (data.select_dtypes('number')).columns:\n",
    "    print(i)\n",
    "    plt.subplot(1,2,1)\n",
    "    data[i].plot(kind='kde')\n",
    "    plt.title(i+'- KDE')\n",
    "    plt.axvline(data[i].mean(),color='black')\n",
    "    plt.axvline(data[i].median(),color='yellow')\n",
    "    plt.axvline(data[i].std(),color='maroon')\n",
    "    plt.subplot(1,2,2)\n",
    "    plt.title(i+'- Boxplot')\n",
    "    data[i].plot(kind='box')\n",
    "    plt.show()\n",
    "    print('skew '+i,data[i].skew())\n",
    "    print('kurt '+i,data[i].kurt())\n",
    "    print('mean '+i,data[i].mean())\n",
    "    print('median '+i,data[i].median())\n",
    "    print('mode '+i,data[i].mode()[0])\n",
    "    print('std '+i,data[i].std())\n",
    "    print('var '+i,data[i].var())"
   ]
  },
  {
   "cell_type": "markdown",
   "id": "297ea1a2",
   "metadata": {},
   "source": [
    "## Outlier Treatment by Capping method"
   ]
  },
  {
   "cell_type": "code",
   "execution_count": 492,
   "id": "c313700e",
   "metadata": {},
   "outputs": [
    {
     "data": {
      "text/plain": [
       "<AxesSubplot:>"
      ]
     },
     "execution_count": 492,
     "metadata": {},
     "output_type": "execute_result"
    },
    {
     "data": {
      "image/png": "[encoded data removed]",
      "text/plain": [
       "<Figure size 432x288 with 1 Axes>"
      ]
     },
     "metadata": {
      "needs_background": "light"
     },
     "output_type": "display_data"
    }
   ],
   "source": [
    "data['Fare'].plot(kind='box')"
   ]
  },
  {
   "cell_type": "markdown",
   "id": "effd0934",
   "metadata": {},
   "source": [
    "Hence, we observed some outliers in the fare column. We should treat them or else it may effect \n",
    "the whole data and may cause inaccurate predictions"
   ]
  },
  {
   "cell_type": "code",
   "execution_count": 493,
   "id": "50fd2285",
   "metadata": {},
   "outputs": [],
   "source": [
    "Q1 = data['Fare'].quantile(0.25)\n",
    "Q3 = data['Fare'].quantile(0.75)\n",
    "IQR = Q3 - Q1\n",
    "lower_whisker = Q1 -(1.5*IQR)\n",
    "upper_whisker = Q3 + (1.5*IQR)\n",
    "data['Fare']=np.where(data['Fare']>upper_whisker,upper_whisker,\n",
    "                      np.where(data['Fare']<lower_whisker,lower_whisker,data['Fare']))"
   ]
  },
  {
   "cell_type": "code",
   "execution_count": 494,
   "id": "84333b3d",
   "metadata": {},
   "outputs": [
    {
     "data": {
      "text/plain": [
       "(891, 12)"
      ]
     },
     "execution_count": 494,
     "metadata": {},
     "output_type": "execute_result"
    }
   ],
   "source": [
    "data.shape"
   ]
  },
  {
   "cell_type": "code",
   "execution_count": 495,
   "id": "33b3b1a9",
   "metadata": {},
   "outputs": [
    {
     "data": {
      "text/plain": [
       "<AxesSubplot:>"
      ]
     },
     "execution_count": 495,
     "metadata": {},
     "output_type": "execute_result"
    },
    {
     "data": {
      "image/png": "[encoded data removed]",
      "text/plain": [
       "<Figure size 432x288 with 1 Axes>"
      ]
     },
     "metadata": {
      "needs_background": "light"
     },
     "output_type": "display_data"
    }
   ],
   "source": [
    "data['Fare'].plot(kind='box')"
   ]
  },
  {
   "cell_type": "markdown",
   "id": "7b6ace61",
   "metadata": {},
   "source": [
    "## Bivariate Analysis"
   ]
  },
  {
   "cell_type": "markdown",
   "id": "b4331e75",
   "metadata": {},
   "source": [
    "### Survival Rate by class"
   ]
  },
  {
   "cell_type": "code",
   "execution_count": 496,
   "id": "17b7a312",
   "metadata": {
    "scrolled": false
   },
   "outputs": [
    {
     "data": {
      "image/png": "[encoded data removed]",
      "text/plain": [
       "<Figure size 576x504 with 1 Axes>"
      ]
     },
     "metadata": {
      "needs_background": "light"
     },
     "output_type": "display_data"
    }
   ],
   "source": [
    "plt.figure(figsize=(8,7))\n",
    "sns.countplot(x='Pclass', hue='Survived', data=data, palette='PRGn')\n",
    "plt.title('Survival Rate by class')\n",
    "plt.show()"
   ]
  },
  {
   "cell_type": "markdown",
   "id": "7bec16c4",
   "metadata": {},
   "source": [
    "1.The passengers who are from 1st P class have survived more in comparision to other P classes 2nd and 3rd.\n",
    "\n",
    "2.The survival rate is very much less in the 2nd and 3rd P classes."
   ]
  },
  {
   "cell_type": "markdown",
   "id": "c540c4c2",
   "metadata": {},
   "source": [
    "### Survival Rate by Sex"
   ]
  },
  {
   "cell_type": "code",
   "execution_count": 497,
   "id": "6da32408",
   "metadata": {
    "scrolled": false
   },
   "outputs": [
    {
     "data": {
      "image/png": "[encoded data removed]",
      "text/plain": [
       "<Figure size 576x432 with 1 Axes>"
      ]
     },
     "metadata": {
      "needs_background": "light"
     },
     "output_type": "display_data"
    }
   ],
   "source": [
    "plt.figure(figsize=(8, 6))\n",
    "sns.countplot(x='Sex', hue='Survived', data=data, palette='PRGn')\n",
    "plt.title('Survival Count by Sex')\n",
    "plt.xlabel('Sex')\n",
    "plt.ylabel('Count')\n",
    "plt.legend(title='Survived', loc='upper right', labels=['No', 'Yes'])\n",
    "plt.show()"
   ]
  },
  {
   "cell_type": "markdown",
   "id": "48056472",
   "metadata": {},
   "source": [
    "The survival rate male is very less compared to females."
   ]
  },
  {
   "cell_type": "markdown",
   "id": "f7a8f272",
   "metadata": {},
   "source": [
    "### Survival Rate By Age Group"
   ]
  },
  {
   "cell_type": "code",
   "execution_count": 498,
   "id": "401708ab",
   "metadata": {},
   "outputs": [],
   "source": [
    "data['Age Group']=pd.cut(data['Age'], bins=[0,18,35,50,100], labels=['0-18', '19-35', '36-50','50-100'])"
   ]
  },
  {
   "cell_type": "code",
   "execution_count": 499,
   "id": "23566fe8",
   "metadata": {},
   "outputs": [
    {
     "data": {
      "text/plain": [
       "19-35     358\n",
       "36-50     153\n",
       "0-18      139\n",
       "50-100     64\n",
       "Name: Age Group, dtype: int64"
      ]
     },
     "execution_count": 499,
     "metadata": {},
     "output_type": "execute_result"
    }
   ],
   "source": [
    "data['Age Group'].value_counts()"
   ]
  },
  {
   "cell_type": "code",
   "execution_count": 500,
   "id": "69142f8a",
   "metadata": {},
   "outputs": [
    {
     "data": {
      "image/png": "[encoded data removed]",
      "text/plain": [
       "<Figure size 576x432 with 1 Axes>"
      ]
     },
     "metadata": {
      "needs_background": "light"
     },
     "output_type": "display_data"
    }
   ],
   "source": [
    "plt.figure(figsize=(8, 6))\n",
    "sns.countplot(x='Age Group', hue='Survived', data=data, palette='PRGn')\n",
    "plt.title('Survival Count by Age Group')\n",
    "plt.xlabel('Age Group')\n",
    "plt.ylabel('Count')\n",
    "plt.legend(title='Survived', loc='upper right', labels=['No', 'Yes'])\n",
    "plt.show()"
   ]
  },
  {
   "cell_type": "markdown",
   "id": "bd47cae6",
   "metadata": {},
   "source": [
    "The death rate is more in the age group 19-35 (358)."
   ]
  },
  {
   "cell_type": "markdown",
   "id": "82b83b3c",
   "metadata": {},
   "source": [
    "### Survival Rate By SibSp"
   ]
  },
  {
   "cell_type": "code",
   "execution_count": 501,
   "id": "0611905b",
   "metadata": {},
   "outputs": [
    {
     "data": {
      "text/plain": [
       "0    608\n",
       "1    209\n",
       "2     28\n",
       "4     18\n",
       "3     16\n",
       "8      7\n",
       "5      5\n",
       "Name: SibSp, dtype: int64"
      ]
     },
     "execution_count": 501,
     "metadata": {},
     "output_type": "execute_result"
    }
   ],
   "source": [
    "data['SibSp'].value_counts()"
   ]
  },
  {
   "cell_type": "code",
   "execution_count": 502,
   "id": "423ecdd8",
   "metadata": {},
   "outputs": [
    {
     "data": {
      "image/png": "[encoded data removed]",
      "text/plain": [
       "<Figure size 720x432 with 1 Axes>"
      ]
     },
     "metadata": {
      "needs_background": "light"
     },
     "output_type": "display_data"
    }
   ],
   "source": [
    "plt.figure(figsize=(10, 6))\n",
    "sns.countplot(x='SibSp', hue='Survived', data=data, palette='PRGn')\n",
    "plt.title('Survival Count by Number of Siblings/Spouses')\n",
    "plt.xlabel('Number of Siblings/Spouses')\n",
    "plt.ylabel('Count')\n",
    "plt.legend(title='Survived', loc='upper right', labels=['No', 'Yes'])\n",
    "plt.show()"
   ]
  },
  {
   "cell_type": "markdown",
   "id": "7c53ffe1",
   "metadata": {},
   "source": [
    "1.As the count of induvidual passengers is high, so the count of survived or not survived is also \n",
    "high for indivual passengers.\n",
    "\n",
    "2.The survival rate in induvidual passengers is low, compared to passengers who are having siblings/ Spouses."
   ]
  },
  {
   "cell_type": "markdown",
   "id": "173ac0a8",
   "metadata": {},
   "source": [
    "### Survival Rate By Parch"
   ]
  },
  {
   "cell_type": "code",
   "execution_count": 503,
   "id": "33edcf7e",
   "metadata": {},
   "outputs": [
    {
     "data": {
      "image/png": "[encoded data removed]",
      "text/plain": [
       "<Figure size 720x432 with 1 Axes>"
      ]
     },
     "metadata": {
      "needs_background": "light"
     },
     "output_type": "display_data"
    }
   ],
   "source": [
    "plt.figure(figsize=(10, 6))\n",
    "sns.countplot(x='Parch', hue='Survived', data=data, palette='PRGn')\n",
    "plt.title('Survival Count by Number of Parents/Children')\n",
    "plt.xlabel('Number of Parents/Children')\n",
    "plt.ylabel('Count')\n",
    "plt.legend(title='Survived', loc='upper right', labels=['No', 'Yes'])\n",
    "plt.show()"
   ]
  },
  {
   "cell_type": "markdown",
   "id": "a349ac1f",
   "metadata": {},
   "source": [
    "The survival rate for induvidual passengers is low (who are not having parents/children in the ship)"
   ]
  },
  {
   "cell_type": "code",
   "execution_count": 504,
   "id": "2f903faa",
   "metadata": {},
   "outputs": [
    {
     "data": {
      "image/png": "[encoded data removed]",
      "text/plain": [
       "<Figure size 720x432 with 1 Axes>"
      ]
     },
     "metadata": {
      "needs_background": "light"
     },
     "output_type": "display_data"
    }
   ],
   "source": [
    "plt.figure(figsize=(10, 6))\n",
    "sns.kdeplot(data=data, x='Fare', hue='Survived', fill=True, common_norm=False, palette='muted')\n",
    "plt.title('Distribution of Fare by Survival Status')\n",
    "plt.xlabel('Fare')\n",
    "plt.ylabel('Density')\n",
    "plt.legend(title='Survived', loc='upper right', labels=['No', 'Yes'])\n",
    "plt.show()"
   ]
  },
  {
   "cell_type": "markdown",
   "id": "4bacaf9d",
   "metadata": {},
   "source": [
    "## Multivariate Analysis"
   ]
  },
  {
   "cell_type": "code",
   "execution_count": 505,
   "id": "b4fd1b00",
   "metadata": {},
   "outputs": [
    {
     "data": {
      "image/png": "[encoded data removed]",
      "text/plain": [
       "<Figure size 864x720 with 2 Axes>"
      ]
     },
     "metadata": {
      "needs_background": "light"
     },
     "output_type": "display_data"
    }
   ],
   "source": [
    "plt.figure(figsize=(12,10))\n",
    "sns.heatmap(data=data.corr(), annot=True, cmap='Greens')\n",
    "plt.show()"
   ]
  },
  {
   "cell_type": "markdown",
   "id": "3baa62ce",
   "metadata": {},
   "source": [
    "As we can see in the above plot, There's no multicollinearity between the independent features."
   ]
  },
  {
   "cell_type": "markdown",
   "id": "e49ba309",
   "metadata": {},
   "source": [
    "## Encoding Categorical Columns"
   ]
  },
  {
   "cell_type": "markdown",
   "id": "d4599c0d",
   "metadata": {},
   "source": [
    "As we are performing machine learning algorithmns on our data, we have to convert our data into numeric. Hence, \n",
    "only the models can understand the data and perform the required operations efficiently. So, encoding is required."
   ]
  },
  {
   "cell_type": "code",
   "execution_count": 506,
   "id": "b75c1984",
   "metadata": {},
   "outputs": [],
   "source": [
    "data['Sex']=data['Sex'].map({'male':0, 'female':1})\n",
    "data['Embarked']=data['Embarked'].map({'S':0, 'C':1, 'Q':2})"
   ]
  },
  {
   "cell_type": "markdown",
   "id": "0a28307b",
   "metadata": {},
   "source": [
    "## Dropping Unwanted Columns"
   ]
  },
  {
   "cell_type": "markdown",
   "id": "7e4b2388",
   "metadata": {},
   "source": [
    "Dropping the columns which are not ata all used in prediction of the target"
   ]
  },
  {
   "cell_type": "code",
   "execution_count": 507,
   "id": "23a4d978",
   "metadata": {},
   "outputs": [],
   "source": [
    "data.drop(['Cabin', 'Age Group', 'PassengerId','Name', 'Ticket'],axis=1, inplace=True)"
   ]
  },
  {
   "cell_type": "markdown",
   "id": "d88d6e5b",
   "metadata": {},
   "source": [
    "## Missing Values Treatment in Columns Age and Embarked"
   ]
  },
  {
   "cell_type": "code",
   "execution_count": 508,
   "id": "f8e62460",
   "metadata": {},
   "outputs": [],
   "source": [
    "data['Age']=data['Age'].fillna(data['Age'].mean())\n",
    "data['Embarked']=data['Embarked'].fillna(data['Embarked'].mode()[0])"
   ]
  },
  {
   "cell_type": "code",
   "execution_count": 509,
   "id": "4b600e70",
   "metadata": {
    "scrolled": true
   },
   "outputs": [
    {
     "data": {
      "text/plain": [
       "Survived    0\n",
       "Pclass      0\n",
       "Sex         0\n",
       "Age         0\n",
       "SibSp       0\n",
       "Parch       0\n",
       "Fare        0\n",
       "Embarked    0\n",
       "dtype: int64"
      ]
     },
     "execution_count": 509,
     "metadata": {},
     "output_type": "execute_result"
    }
   ],
   "source": [
    "data.isnull().sum()"
   ]
  },
  {
   "cell_type": "code",
   "execution_count": 510,
   "id": "18111d83",
   "metadata": {
    "scrolled": true
   },
   "outputs": [
    {
     "data": {
      "text/plain": [
       "0    61.616162\n",
       "1    38.383838\n",
       "Name: Survived, dtype: float64"
      ]
     },
     "execution_count": 510,
     "metadata": {},
     "output_type": "execute_result"
    }
   ],
   "source": [
    "data['Survived'].value_counts(normalize=True)*100"
   ]
  },
  {
   "cell_type": "markdown",
   "id": "f3544e1c",
   "metadata": {},
   "source": [
    "## Splitting The Data"
   ]
  },
  {
   "cell_type": "markdown",
   "id": "b6b5938d",
   "metadata": {},
   "source": [
    "1.As our models require some data to learn patterns and trends. So we are giving it some data called training data.\n",
    "\n",
    "2.Then we have to test the predictions that are made by our model. So we use data to test models performance,\n",
    "called testing data.\n",
    "\n",
    "3.Here we are splitting traing and testing data."
   ]
  },
  {
   "cell_type": "code",
   "execution_count": 511,
   "id": "03ada0a0",
   "metadata": {},
   "outputs": [],
   "source": [
    "x=data.drop('Survived', axis=1)\n",
    "y=data['Survived']"
   ]
  },
  {
   "cell_type": "code",
   "execution_count": 512,
   "id": "6e979b83",
   "metadata": {},
   "outputs": [],
   "source": [
    "xtrain, xtest, ytrain, ytest=train_test_split(x, y, test_size=0.20, random_state=10)"
   ]
  },
  {
   "cell_type": "code",
   "execution_count": 513,
   "id": "e6c778de",
   "metadata": {},
   "outputs": [
    {
     "name": "stdout",
     "output_type": "stream",
     "text": [
      "xtrain shape :  (712, 7)\n",
      "ytrain shape :  712\n",
      "xtest shape :  (179, 7)\n",
      "ytest shape :  179\n"
     ]
    }
   ],
   "source": [
    "print('xtrain shape : ', xtrain.shape)\n",
    "print('ytrain shape : ', ytrain.shape[0])\n",
    "print('xtest shape : ', xtest.shape)\n",
    "print('ytest shape : ', ytest.shape[0])"
   ]
  },
  {
   "cell_type": "code",
   "execution_count": 514,
   "id": "24ce48aa",
   "metadata": {},
   "outputs": [
    {
     "data": {
      "text/html": [
       "<div>\n",
       "<style scoped>\n",
       "    .dataframe tbody tr th:only-of-type {\n",
       "        vertical-align: middle;\n",
       "    }\n",
       "\n",
       "    .dataframe tbody tr th {\n",
       "        vertical-align: top;\n",
       "    }\n",
       "\n",
       "    .dataframe thead th {\n",
       "        text-align: right;\n",
       "    }\n",
       "</style>\n",
       "<table border=\"1\" class=\"dataframe\">\n",
       "  <thead>\n",
       "    <tr style=\"text-align: right;\">\n",
       "      <th></th>\n",
       "      <th>Pclass</th>\n",
       "      <th>Sex</th>\n",
       "      <th>Age</th>\n",
       "      <th>SibSp</th>\n",
       "      <th>Parch</th>\n",
       "      <th>Fare</th>\n",
       "      <th>Embarked</th>\n",
       "    </tr>\n",
       "  </thead>\n",
       "  <tbody>\n",
       "    <tr>\n",
       "      <th>57</th>\n",
       "      <td>3</td>\n",
       "      <td>0</td>\n",
       "      <td>28.500000</td>\n",
       "      <td>0</td>\n",
       "      <td>0</td>\n",
       "      <td>7.2292</td>\n",
       "      <td>1.0</td>\n",
       "    </tr>\n",
       "    <tr>\n",
       "      <th>717</th>\n",
       "      <td>2</td>\n",
       "      <td>1</td>\n",
       "      <td>27.000000</td>\n",
       "      <td>0</td>\n",
       "      <td>0</td>\n",
       "      <td>10.5000</td>\n",
       "      <td>0.0</td>\n",
       "    </tr>\n",
       "    <tr>\n",
       "      <th>431</th>\n",
       "      <td>3</td>\n",
       "      <td>1</td>\n",
       "      <td>29.699118</td>\n",
       "      <td>1</td>\n",
       "      <td>0</td>\n",
       "      <td>16.1000</td>\n",
       "      <td>0.0</td>\n",
       "    </tr>\n",
       "    <tr>\n",
       "      <th>633</th>\n",
       "      <td>1</td>\n",
       "      <td>0</td>\n",
       "      <td>29.699118</td>\n",
       "      <td>0</td>\n",
       "      <td>0</td>\n",
       "      <td>0.0000</td>\n",
       "      <td>0.0</td>\n",
       "    </tr>\n",
       "    <tr>\n",
       "      <th>163</th>\n",
       "      <td>3</td>\n",
       "      <td>0</td>\n",
       "      <td>17.000000</td>\n",
       "      <td>0</td>\n",
       "      <td>0</td>\n",
       "      <td>8.6625</td>\n",
       "      <td>0.0</td>\n",
       "    </tr>\n",
       "    <tr>\n",
       "      <th>...</th>\n",
       "      <td>...</td>\n",
       "      <td>...</td>\n",
       "      <td>...</td>\n",
       "      <td>...</td>\n",
       "      <td>...</td>\n",
       "      <td>...</td>\n",
       "      <td>...</td>\n",
       "    </tr>\n",
       "    <tr>\n",
       "      <th>369</th>\n",
       "      <td>1</td>\n",
       "      <td>1</td>\n",
       "      <td>24.000000</td>\n",
       "      <td>0</td>\n",
       "      <td>0</td>\n",
       "      <td>65.6344</td>\n",
       "      <td>1.0</td>\n",
       "    </tr>\n",
       "    <tr>\n",
       "      <th>320</th>\n",
       "      <td>3</td>\n",
       "      <td>0</td>\n",
       "      <td>22.000000</td>\n",
       "      <td>0</td>\n",
       "      <td>0</td>\n",
       "      <td>7.2500</td>\n",
       "      <td>0.0</td>\n",
       "    </tr>\n",
       "    <tr>\n",
       "      <th>527</th>\n",
       "      <td>1</td>\n",
       "      <td>0</td>\n",
       "      <td>29.699118</td>\n",
       "      <td>0</td>\n",
       "      <td>0</td>\n",
       "      <td>65.6344</td>\n",
       "      <td>0.0</td>\n",
       "    </tr>\n",
       "    <tr>\n",
       "      <th>125</th>\n",
       "      <td>3</td>\n",
       "      <td>0</td>\n",
       "      <td>12.000000</td>\n",
       "      <td>1</td>\n",
       "      <td>0</td>\n",
       "      <td>11.2417</td>\n",
       "      <td>1.0</td>\n",
       "    </tr>\n",
       "    <tr>\n",
       "      <th>265</th>\n",
       "      <td>2</td>\n",
       "      <td>0</td>\n",
       "      <td>36.000000</td>\n",
       "      <td>0</td>\n",
       "      <td>0</td>\n",
       "      <td>10.5000</td>\n",
       "      <td>0.0</td>\n",
       "    </tr>\n",
       "  </tbody>\n",
       "</table>\n",
       "<p>712 rows × 7 columns</p>\n",
       "</div>"
      ],
      "text/plain": [
       "     Pclass  Sex        Age  SibSp  Parch     Fare  Embarked\n",
       "57        3    0  28.500000      0      0   7.2292       1.0\n",
       "717       2    1  27.000000      0      0  10.5000       0.0\n",
       "431       3    1  29.699118      1      0  16.1000       0.0\n",
       "633       1    0  29.699118      0      0   0.0000       0.0\n",
       "163       3    0  17.000000      0      0   8.6625       0.0\n",
       "..      ...  ...        ...    ...    ...      ...       ...\n",
       "369       1    1  24.000000      0      0  65.6344       1.0\n",
       "320       3    0  22.000000      0      0   7.2500       0.0\n",
       "527       1    0  29.699118      0      0  65.6344       0.0\n",
       "125       3    0  12.000000      1      0  11.2417       1.0\n",
       "265       2    0  36.000000      0      0  10.5000       0.0\n",
       "\n",
       "[712 rows x 7 columns]"
      ]
     },
     "execution_count": 514,
     "metadata": {},
     "output_type": "execute_result"
    }
   ],
   "source": [
    "xtrain"
   ]
  },
  {
   "cell_type": "code",
   "execution_count": null,
   "id": "434294f1",
   "metadata": {},
   "outputs": [],
   "source": []
  },
  {
   "cell_type": "markdown",
   "id": "0e545e48",
   "metadata": {},
   "source": [
    "## Scaling the training and testing data"
   ]
  },
  {
   "cell_type": "raw",
   "id": "534e052c",
   "metadata": {},
   "source": [
    "To bring all the data into same range(scale) we are using scaling procedure. So the results can be unbiased."
   ]
  },
  {
   "cell_type": "code",
   "execution_count": 515,
   "id": "68db83ed",
   "metadata": {},
   "outputs": [],
   "source": [
    "ss=StandardScaler()\n",
    "scaled_train=pd.DataFrame(data=ss.fit_transform(xtrain), columns=xtrain.columns)\n",
    "scaled_test=pd.DataFrame(data=ss.transform(xtest), columns=xtest.columns)"
   ]
  },
  {
   "cell_type": "code",
   "execution_count": 516,
   "id": "4c44f388",
   "metadata": {},
   "outputs": [
    {
     "data": {
      "text/html": [
       "<div>\n",
       "<style scoped>\n",
       "    .dataframe tbody tr th:only-of-type {\n",
       "        vertical-align: middle;\n",
       "    }\n",
       "\n",
       "    .dataframe tbody tr th {\n",
       "        vertical-align: top;\n",
       "    }\n",
       "\n",
       "    .dataframe thead th {\n",
       "        text-align: right;\n",
       "    }\n",
       "</style>\n",
       "<table border=\"1\" class=\"dataframe\">\n",
       "  <thead>\n",
       "    <tr style=\"text-align: right;\">\n",
       "      <th></th>\n",
       "      <th>Pclass</th>\n",
       "      <th>Sex</th>\n",
       "      <th>Age</th>\n",
       "      <th>SibSp</th>\n",
       "      <th>Parch</th>\n",
       "      <th>Fare</th>\n",
       "      <th>Embarked</th>\n",
       "    </tr>\n",
       "  </thead>\n",
       "  <tbody>\n",
       "    <tr>\n",
       "      <th>0</th>\n",
       "      <td>0.825233</td>\n",
       "      <td>-0.753845</td>\n",
       "      <td>-0.090494</td>\n",
       "      <td>-0.458505</td>\n",
       "      <td>-0.477849</td>\n",
       "      <td>-0.829877</td>\n",
       "      <td>1.045537</td>\n",
       "    </tr>\n",
       "    <tr>\n",
       "      <th>1</th>\n",
       "      <td>-0.376333</td>\n",
       "      <td>1.326533</td>\n",
       "      <td>-0.206084</td>\n",
       "      <td>-0.458505</td>\n",
       "      <td>-0.477849</td>\n",
       "      <td>-0.670287</td>\n",
       "      <td>-0.551936</td>\n",
       "    </tr>\n",
       "    <tr>\n",
       "      <th>2</th>\n",
       "      <td>0.825233</td>\n",
       "      <td>1.326533</td>\n",
       "      <td>0.001909</td>\n",
       "      <td>0.412044</td>\n",
       "      <td>-0.477849</td>\n",
       "      <td>-0.397049</td>\n",
       "      <td>-0.551936</td>\n",
       "    </tr>\n",
       "    <tr>\n",
       "      <th>3</th>\n",
       "      <td>-1.577900</td>\n",
       "      <td>-0.753845</td>\n",
       "      <td>0.001909</td>\n",
       "      <td>-0.458505</td>\n",
       "      <td>-0.477849</td>\n",
       "      <td>-1.182608</td>\n",
       "      <td>-0.551936</td>\n",
       "    </tr>\n",
       "    <tr>\n",
       "      <th>4</th>\n",
       "      <td>0.825233</td>\n",
       "      <td>-0.753845</td>\n",
       "      <td>-0.976679</td>\n",
       "      <td>-0.458505</td>\n",
       "      <td>-0.477849</td>\n",
       "      <td>-0.759943</td>\n",
       "      <td>-0.551936</td>\n",
       "    </tr>\n",
       "  </tbody>\n",
       "</table>\n",
       "</div>"
      ],
      "text/plain": [
       "     Pclass       Sex       Age     SibSp     Parch      Fare  Embarked\n",
       "0  0.825233 -0.753845 -0.090494 -0.458505 -0.477849 -0.829877  1.045537\n",
       "1 -0.376333  1.326533 -0.206084 -0.458505 -0.477849 -0.670287 -0.551936\n",
       "2  0.825233  1.326533  0.001909  0.412044 -0.477849 -0.397049 -0.551936\n",
       "3 -1.577900 -0.753845  0.001909 -0.458505 -0.477849 -1.182608 -0.551936\n",
       "4  0.825233 -0.753845 -0.976679 -0.458505 -0.477849 -0.759943 -0.551936"
      ]
     },
     "execution_count": 516,
     "metadata": {},
     "output_type": "execute_result"
    }
   ],
   "source": [
    "scaled_train.head()"
   ]
  },
  {
   "cell_type": "code",
   "execution_count": 517,
   "id": "b63d8691",
   "metadata": {},
   "outputs": [
    {
     "data": {
      "text/html": [
       "<div>\n",
       "<style scoped>\n",
       "    .dataframe tbody tr th:only-of-type {\n",
       "        vertical-align: middle;\n",
       "    }\n",
       "\n",
       "    .dataframe tbody tr th {\n",
       "        vertical-align: top;\n",
       "    }\n",
       "\n",
       "    .dataframe thead th {\n",
       "        text-align: right;\n",
       "    }\n",
       "</style>\n",
       "<table border=\"1\" class=\"dataframe\">\n",
       "  <thead>\n",
       "    <tr style=\"text-align: right;\">\n",
       "      <th></th>\n",
       "      <th>Pclass</th>\n",
       "      <th>Sex</th>\n",
       "      <th>Age</th>\n",
       "      <th>SibSp</th>\n",
       "      <th>Parch</th>\n",
       "      <th>Fare</th>\n",
       "      <th>Embarked</th>\n",
       "    </tr>\n",
       "  </thead>\n",
       "  <tbody>\n",
       "    <tr>\n",
       "      <th>0</th>\n",
       "      <td>0.825233</td>\n",
       "      <td>-0.753845</td>\n",
       "      <td>0.410393</td>\n",
       "      <td>-0.458505</td>\n",
       "      <td>-0.477849</td>\n",
       "      <td>-0.834961</td>\n",
       "      <td>-0.551936</td>\n",
       "    </tr>\n",
       "    <tr>\n",
       "      <th>1</th>\n",
       "      <td>0.825233</td>\n",
       "      <td>-0.753845</td>\n",
       "      <td>-0.745501</td>\n",
       "      <td>-0.458505</td>\n",
       "      <td>-0.477849</td>\n",
       "      <td>-0.838621</td>\n",
       "      <td>-0.551936</td>\n",
       "    </tr>\n",
       "    <tr>\n",
       "      <th>2</th>\n",
       "      <td>0.825233</td>\n",
       "      <td>-0.753845</td>\n",
       "      <td>-0.283143</td>\n",
       "      <td>-0.458505</td>\n",
       "      <td>-0.477849</td>\n",
       "      <td>-0.797352</td>\n",
       "      <td>-0.551936</td>\n",
       "    </tr>\n",
       "    <tr>\n",
       "      <th>3</th>\n",
       "      <td>-1.577900</td>\n",
       "      <td>1.326533</td>\n",
       "      <td>2.182763</td>\n",
       "      <td>-0.458505</td>\n",
       "      <td>-0.477849</td>\n",
       "      <td>2.019859</td>\n",
       "      <td>1.045537</td>\n",
       "    </tr>\n",
       "    <tr>\n",
       "      <th>4</th>\n",
       "      <td>-1.577900</td>\n",
       "      <td>1.326533</td>\n",
       "      <td>0.410393</td>\n",
       "      <td>0.412044</td>\n",
       "      <td>-0.477849</td>\n",
       "      <td>2.019859</td>\n",
       "      <td>-0.551936</td>\n",
       "    </tr>\n",
       "  </tbody>\n",
       "</table>\n",
       "</div>"
      ],
      "text/plain": [
       "     Pclass       Sex       Age     SibSp     Parch      Fare  Embarked\n",
       "0  0.825233 -0.753845  0.410393 -0.458505 -0.477849 -0.834961 -0.551936\n",
       "1  0.825233 -0.753845 -0.745501 -0.458505 -0.477849 -0.838621 -0.551936\n",
       "2  0.825233 -0.753845 -0.283143 -0.458505 -0.477849 -0.797352 -0.551936\n",
       "3 -1.577900  1.326533  2.182763 -0.458505 -0.477849  2.019859  1.045537\n",
       "4 -1.577900  1.326533  0.410393  0.412044 -0.477849  2.019859 -0.551936"
      ]
     },
     "execution_count": 517,
     "metadata": {},
     "output_type": "execute_result"
    }
   ],
   "source": [
    "scaled_test.head()"
   ]
  },
  {
   "cell_type": "code",
   "execution_count": null,
   "id": "d974f4fc",
   "metadata": {},
   "outputs": [],
   "source": []
  },
  {
   "cell_type": "markdown",
   "id": "b800239b",
   "metadata": {},
   "source": [
    "# MODEL BUILDING"
   ]
  },
  {
   "cell_type": "code",
   "execution_count": 518,
   "id": "e1bcf8a2",
   "metadata": {},
   "outputs": [],
   "source": [
    "perf_score = pd.DataFrame(columns=[\"Model\", \"Accuracy\",\"Recall\",\"Precision\",\"F1 Score\"] )"
   ]
  },
  {
   "cell_type": "code",
   "execution_count": 519,
   "id": "a6e68aa4",
   "metadata": {},
   "outputs": [],
   "source": [
    "def per_measures(model,test,pred):\n",
    "    accuracy    =accuracy_score(test,pred)\n",
    "    f1score     =f1_score(test,pred)\n",
    "    recall      =recall_score(test,pred)\n",
    "    precision   =precision_score(test,pred)\n",
    "    return (accuracy,recall,precision,f1score)"
   ]
  },
  {
   "cell_type": "code",
   "execution_count": 520,
   "id": "c6baf3d7",
   "metadata": {},
   "outputs": [],
   "source": [
    "def update_performance (name,model,test,pred):\n",
    "    global perf_score\n",
    "    perf_score = perf_score.append({'Model'       : name,\n",
    "                                    'Accuracy'    : per_measures(model,test,pred)[0],\n",
    "                                    'Recall'      : per_measures(model,test,pred)[1],\n",
    "                                    'Precision'   : per_measures(model,test,pred)[2],\n",
    "                                    'F1 Score'    : per_measures(model,test,pred)[3]\n",
    "                                     },\n",
    "                                   ignore_index = True)"
   ]
  },
  {
   "cell_type": "code",
   "execution_count": null,
   "id": "20ef13f5",
   "metadata": {},
   "outputs": [],
   "source": []
  },
  {
   "cell_type": "markdown",
   "id": "d4a66938",
   "metadata": {},
   "source": [
    "## Logistic Regression"
   ]
  },
  {
   "cell_type": "code",
   "execution_count": 521,
   "id": "9d8a1d7f",
   "metadata": {},
   "outputs": [],
   "source": [
    "from sklearn.linear_model import LogisticRegression\n",
    "\n",
    "lr=LogisticRegression()\n",
    "model_lr=lr.fit(scaled_train, ytrain)"
   ]
  },
  {
   "cell_type": "code",
   "execution_count": 522,
   "id": "0f7ebc30",
   "metadata": {},
   "outputs": [],
   "source": [
    "pred_test=model_lr.predict(scaled_test)\n",
    "pred_proba=model_lr.predict_proba(xtest)[ : ,1]"
   ]
  },
  {
   "cell_type": "code",
   "execution_count": 523,
   "id": "488ef181",
   "metadata": {
    "scrolled": true
   },
   "outputs": [
    {
     "name": "stdout",
     "output_type": "stream",
     "text": [
      "confusion matrix :\n",
      " [[102  15]\n",
      " [ 16  46]]\n",
      "roc_auc_score :  0.8038323683484975\n",
      "classification report :\n",
      "               precision    recall  f1-score   support\n",
      "\n",
      "           0       0.86      0.87      0.87       117\n",
      "           1       0.75      0.74      0.75        62\n",
      "\n",
      "    accuracy                           0.83       179\n",
      "   macro avg       0.81      0.81      0.81       179\n",
      "weighted avg       0.83      0.83      0.83       179\n",
      "\n"
     ]
    }
   ],
   "source": [
    "from sklearn.metrics import classification_report,accuracy_score,confusion_matrix,roc_auc_score, f1_score,recall_score,precision_score\n",
    "\n",
    "print('confusion matrix :''\\n',confusion_matrix(ytest, pred_test))\n",
    "print('roc_auc_score : ',roc_auc_score(ytest, pred_proba))\n",
    "print('classification report :''\\n',classification_report(ytest, pred_test))"
   ]
  },
  {
   "cell_type": "code",
   "execution_count": 524,
   "id": "acb3716e",
   "metadata": {},
   "outputs": [
    {
     "data": {
      "text/html": [
       "<div>\n",
       "<style scoped>\n",
       "    .dataframe tbody tr th:only-of-type {\n",
       "        vertical-align: middle;\n",
       "    }\n",
       "\n",
       "    .dataframe tbody tr th {\n",
       "        vertical-align: top;\n",
       "    }\n",
       "\n",
       "    .dataframe thead th {\n",
       "        text-align: right;\n",
       "    }\n",
       "</style>\n",
       "<table border=\"1\" class=\"dataframe\">\n",
       "  <thead>\n",
       "    <tr style=\"text-align: right;\">\n",
       "      <th></th>\n",
       "      <th>Model</th>\n",
       "      <th>Accuracy</th>\n",
       "      <th>Recall</th>\n",
       "      <th>Precision</th>\n",
       "      <th>F1 Score</th>\n",
       "    </tr>\n",
       "  </thead>\n",
       "  <tbody>\n",
       "    <tr>\n",
       "      <th>0</th>\n",
       "      <td>Logistic Regression</td>\n",
       "      <td>0.826816</td>\n",
       "      <td>0.741935</td>\n",
       "      <td>0.754098</td>\n",
       "      <td>0.747967</td>\n",
       "    </tr>\n",
       "  </tbody>\n",
       "</table>\n",
       "</div>"
      ],
      "text/plain": [
       "                 Model  Accuracy    Recall Precision  F1 Score\n",
       "0  Logistic Regression  0.826816  0.741935  0.754098  0.747967"
      ]
     },
     "execution_count": 524,
     "metadata": {},
     "output_type": "execute_result"
    }
   ],
   "source": [
    "update_performance(name = 'Logistic Regression', model = model_lr,test=ytest,pred=pred_test)\n",
    "perf_score"
   ]
  },
  {
   "cell_type": "markdown",
   "id": "da163827",
   "metadata": {},
   "source": [
    "## Naive Bayes"
   ]
  },
  {
   "cell_type": "code",
   "execution_count": 525,
   "id": "fd9a57b5",
   "metadata": {},
   "outputs": [],
   "source": [
    "from sklearn.naive_bayes import BernoulliNB\n",
    "\n",
    "nb=BernoulliNB()\n",
    "model_nb=nb.fit(scaled_train, ytrain)"
   ]
  },
  {
   "cell_type": "code",
   "execution_count": 526,
   "id": "cd94ebfa",
   "metadata": {},
   "outputs": [],
   "source": [
    "pred_train=model_nb.predict(scaled_train)\n",
    "pred_test=model_nb.predict(scaled_test)\n",
    "pred_proba=model_lr.predict_proba(scaled_test)[ : ,1]"
   ]
  },
  {
   "cell_type": "code",
   "execution_count": 527,
   "id": "5577da20",
   "metadata": {
    "scrolled": true
   },
   "outputs": [
    {
     "name": "stdout",
     "output_type": "stream",
     "text": [
      "confusion matrix :\n",
      " [[100  17]\n",
      " [ 15  47]]\n",
      "roc_auc_score :  0.8698649021229666\n",
      "classification report :\n",
      "               precision    recall  f1-score   support\n",
      "\n",
      "           0       0.87      0.85      0.86       117\n",
      "           1       0.73      0.76      0.75        62\n",
      "\n",
      "    accuracy                           0.82       179\n",
      "   macro avg       0.80      0.81      0.80       179\n",
      "weighted avg       0.82      0.82      0.82       179\n",
      "\n"
     ]
    }
   ],
   "source": [
    "print('confusion matrix :''\\n',confusion_matrix(ytest, pred_test))\n",
    "print('roc_auc_score : ',roc_auc_score(ytest, pred_proba))\n",
    "print('classification report :''\\n',classification_report(ytest, pred_test))"
   ]
  },
  {
   "cell_type": "code",
   "execution_count": 528,
   "id": "659db70f",
   "metadata": {},
   "outputs": [
    {
     "data": {
      "text/html": [
       "<div>\n",
       "<style scoped>\n",
       "    .dataframe tbody tr th:only-of-type {\n",
       "        vertical-align: middle;\n",
       "    }\n",
       "\n",
       "    .dataframe tbody tr th {\n",
       "        vertical-align: top;\n",
       "    }\n",
       "\n",
       "    .dataframe thead th {\n",
       "        text-align: right;\n",
       "    }\n",
       "</style>\n",
       "<table border=\"1\" class=\"dataframe\">\n",
       "  <thead>\n",
       "    <tr style=\"text-align: right;\">\n",
       "      <th></th>\n",
       "      <th>Model</th>\n",
       "      <th>Accuracy</th>\n",
       "      <th>Recall</th>\n",
       "      <th>Precision</th>\n",
       "      <th>F1 Score</th>\n",
       "    </tr>\n",
       "  </thead>\n",
       "  <tbody>\n",
       "    <tr>\n",
       "      <th>0</th>\n",
       "      <td>Logistic Regression</td>\n",
       "      <td>0.826816</td>\n",
       "      <td>0.741935</td>\n",
       "      <td>0.754098</td>\n",
       "      <td>0.747967</td>\n",
       "    </tr>\n",
       "    <tr>\n",
       "      <th>1</th>\n",
       "      <td>Naive Bayes</td>\n",
       "      <td>0.821229</td>\n",
       "      <td>0.758065</td>\n",
       "      <td>0.734375</td>\n",
       "      <td>0.746032</td>\n",
       "    </tr>\n",
       "  </tbody>\n",
       "</table>\n",
       "</div>"
      ],
      "text/plain": [
       "                 Model  Accuracy    Recall Precision  F1 Score\n",
       "0  Logistic Regression  0.826816  0.741935  0.754098  0.747967\n",
       "1          Naive Bayes  0.821229  0.758065  0.734375  0.746032"
      ]
     },
     "execution_count": 528,
     "metadata": {},
     "output_type": "execute_result"
    }
   ],
   "source": [
    "update_performance(name = 'Naive Bayes', model = model_nb,test=ytest,pred=pred_test)\n",
    "perf_score"
   ]
  },
  {
   "cell_type": "markdown",
   "id": "1300da27",
   "metadata": {},
   "source": [
    "## KNN Classifier"
   ]
  },
  {
   "cell_type": "code",
   "execution_count": 529,
   "id": "37dde7fa",
   "metadata": {},
   "outputs": [],
   "source": [
    "from sklearn.neighbors import KNeighborsClassifier\n",
    "knn = KNeighborsClassifier()\n",
    "model_knn=knn.fit(scaled_train,ytrain)\n",
    "\n",
    "pred_test = model_knn.predict(scaled_test)"
   ]
  },
  {
   "cell_type": "code",
   "execution_count": 530,
   "id": "e6a375f1",
   "metadata": {},
   "outputs": [
    {
     "name": "stdout",
     "output_type": "stream",
     "text": [
      "confusion matrix :\n",
      " [[98 19]\n",
      " [16 46]]\n",
      "classification report :\n",
      "               precision    recall  f1-score   support\n",
      "\n",
      "           0       0.86      0.84      0.85       117\n",
      "           1       0.71      0.74      0.72        62\n",
      "\n",
      "    accuracy                           0.80       179\n",
      "   macro avg       0.78      0.79      0.79       179\n",
      "weighted avg       0.81      0.80      0.81       179\n",
      "\n"
     ]
    }
   ],
   "source": [
    "print('confusion matrix :''\\n',confusion_matrix(ytest, pred_test))\n",
    "print('classification report :''\\n',classification_report(ytest, pred_test))"
   ]
  },
  {
   "cell_type": "code",
   "execution_count": 531,
   "id": "c13587c9",
   "metadata": {},
   "outputs": [
    {
     "data": {
      "text/html": [
       "<div>\n",
       "<style scoped>\n",
       "    .dataframe tbody tr th:only-of-type {\n",
       "        vertical-align: middle;\n",
       "    }\n",
       "\n",
       "    .dataframe tbody tr th {\n",
       "        vertical-align: top;\n",
       "    }\n",
       "\n",
       "    .dataframe thead th {\n",
       "        text-align: right;\n",
       "    }\n",
       "</style>\n",
       "<table border=\"1\" class=\"dataframe\">\n",
       "  <thead>\n",
       "    <tr style=\"text-align: right;\">\n",
       "      <th></th>\n",
       "      <th>Model</th>\n",
       "      <th>Accuracy</th>\n",
       "      <th>Recall</th>\n",
       "      <th>Precision</th>\n",
       "      <th>F1 Score</th>\n",
       "    </tr>\n",
       "  </thead>\n",
       "  <tbody>\n",
       "    <tr>\n",
       "      <th>0</th>\n",
       "      <td>Logistic Regression</td>\n",
       "      <td>0.826816</td>\n",
       "      <td>0.741935</td>\n",
       "      <td>0.754098</td>\n",
       "      <td>0.747967</td>\n",
       "    </tr>\n",
       "    <tr>\n",
       "      <th>1</th>\n",
       "      <td>Naive Bayes</td>\n",
       "      <td>0.821229</td>\n",
       "      <td>0.758065</td>\n",
       "      <td>0.734375</td>\n",
       "      <td>0.746032</td>\n",
       "    </tr>\n",
       "    <tr>\n",
       "      <th>2</th>\n",
       "      <td>KNN Classifier</td>\n",
       "      <td>0.804469</td>\n",
       "      <td>0.741935</td>\n",
       "      <td>0.707692</td>\n",
       "      <td>0.724409</td>\n",
       "    </tr>\n",
       "  </tbody>\n",
       "</table>\n",
       "</div>"
      ],
      "text/plain": [
       "                 Model  Accuracy    Recall Precision  F1 Score\n",
       "0  Logistic Regression  0.826816  0.741935  0.754098  0.747967\n",
       "1          Naive Bayes  0.821229  0.758065  0.734375  0.746032\n",
       "2       KNN Classifier  0.804469  0.741935  0.707692  0.724409"
      ]
     },
     "execution_count": 531,
     "metadata": {},
     "output_type": "execute_result"
    }
   ],
   "source": [
    "update_performance(name = 'KNN Classifier', model = model_knn,test=ytest,pred=pred_test)\n",
    "perf_score"
   ]
  },
  {
   "cell_type": "markdown",
   "id": "a348fa0c",
   "metadata": {},
   "source": [
    "## Decision Tree"
   ]
  },
  {
   "cell_type": "code",
   "execution_count": 532,
   "id": "6a206515",
   "metadata": {},
   "outputs": [],
   "source": [
    "from sklearn.tree import DecisionTreeClassifier\n",
    "\n",
    "dt=DecisionTreeClassifier()\n",
    "model_dt=dt.fit(scaled_train, ytrain)"
   ]
  },
  {
   "cell_type": "code",
   "execution_count": 533,
   "id": "6a8df69c",
   "metadata": {},
   "outputs": [],
   "source": [
    "pred_test=model_dt.predict(scaled_test)"
   ]
  },
  {
   "cell_type": "code",
   "execution_count": 534,
   "id": "b672e68c",
   "metadata": {
    "scrolled": false
   },
   "outputs": [
    {
     "name": "stdout",
     "output_type": "stream",
     "text": [
      "confusion matrix :\n",
      " [[92 25]\n",
      " [14 48]]\n",
      "classification report :\n",
      "               precision    recall  f1-score   support\n",
      "\n",
      "           0       0.87      0.79      0.83       117\n",
      "           1       0.66      0.77      0.71        62\n",
      "\n",
      "    accuracy                           0.78       179\n",
      "   macro avg       0.76      0.78      0.77       179\n",
      "weighted avg       0.80      0.78      0.79       179\n",
      "\n"
     ]
    }
   ],
   "source": [
    "print('confusion matrix :''\\n',confusion_matrix(ytest, pred_test))\n",
    "print('classification report :''\\n',classification_report(ytest, pred_test))"
   ]
  },
  {
   "cell_type": "code",
   "execution_count": 535,
   "id": "6f5fdc14",
   "metadata": {},
   "outputs": [
    {
     "data": {
      "text/html": [
       "<div>\n",
       "<style scoped>\n",
       "    .dataframe tbody tr th:only-of-type {\n",
       "        vertical-align: middle;\n",
       "    }\n",
       "\n",
       "    .dataframe tbody tr th {\n",
       "        vertical-align: top;\n",
       "    }\n",
       "\n",
       "    .dataframe thead th {\n",
       "        text-align: right;\n",
       "    }\n",
       "</style>\n",
       "<table border=\"1\" class=\"dataframe\">\n",
       "  <thead>\n",
       "    <tr style=\"text-align: right;\">\n",
       "      <th></th>\n",
       "      <th>Model</th>\n",
       "      <th>Accuracy</th>\n",
       "      <th>Recall</th>\n",
       "      <th>Precision</th>\n",
       "      <th>F1 Score</th>\n",
       "    </tr>\n",
       "  </thead>\n",
       "  <tbody>\n",
       "    <tr>\n",
       "      <th>0</th>\n",
       "      <td>Logistic Regression</td>\n",
       "      <td>0.826816</td>\n",
       "      <td>0.741935</td>\n",
       "      <td>0.754098</td>\n",
       "      <td>0.747967</td>\n",
       "    </tr>\n",
       "    <tr>\n",
       "      <th>1</th>\n",
       "      <td>Naive Bayes</td>\n",
       "      <td>0.821229</td>\n",
       "      <td>0.758065</td>\n",
       "      <td>0.734375</td>\n",
       "      <td>0.746032</td>\n",
       "    </tr>\n",
       "    <tr>\n",
       "      <th>2</th>\n",
       "      <td>KNN Classifier</td>\n",
       "      <td>0.804469</td>\n",
       "      <td>0.741935</td>\n",
       "      <td>0.707692</td>\n",
       "      <td>0.724409</td>\n",
       "    </tr>\n",
       "    <tr>\n",
       "      <th>3</th>\n",
       "      <td>Decision Tree Classifier</td>\n",
       "      <td>0.782123</td>\n",
       "      <td>0.774194</td>\n",
       "      <td>0.657534</td>\n",
       "      <td>0.711111</td>\n",
       "    </tr>\n",
       "  </tbody>\n",
       "</table>\n",
       "</div>"
      ],
      "text/plain": [
       "                      Model  Accuracy    Recall Precision  F1 Score\n",
       "0       Logistic Regression  0.826816  0.741935  0.754098  0.747967\n",
       "1               Naive Bayes  0.821229  0.758065  0.734375  0.746032\n",
       "2            KNN Classifier  0.804469  0.741935  0.707692  0.724409\n",
       "3  Decision Tree Classifier  0.782123  0.774194  0.657534  0.711111"
      ]
     },
     "execution_count": 535,
     "metadata": {},
     "output_type": "execute_result"
    }
   ],
   "source": [
    "update_performance(name = 'Decision Tree Classifier', model = model_dt,test=ytest,pred=pred_test)\n",
    "perf_score"
   ]
  },
  {
   "cell_type": "markdown",
   "id": "6edb4c74",
   "metadata": {},
   "source": [
    "## Random Forest Regressor"
   ]
  },
  {
   "cell_type": "code",
   "execution_count": 536,
   "id": "74e2a268",
   "metadata": {},
   "outputs": [],
   "source": [
    "from sklearn.ensemble import RandomForestClassifier\n",
    "rf=RandomForestClassifier(random_state=55)\n",
    "model_rf=rf.fit(scaled_train, ytrain)"
   ]
  },
  {
   "cell_type": "code",
   "execution_count": 537,
   "id": "8c017063",
   "metadata": {},
   "outputs": [],
   "source": [
    "pred_test=model_rf.predict(scaled_test)"
   ]
  },
  {
   "cell_type": "code",
   "execution_count": 538,
   "id": "67d2499e",
   "metadata": {},
   "outputs": [
    {
     "name": "stdout",
     "output_type": "stream",
     "text": [
      "confusion matrix :\n",
      " [[101  16]\n",
      " [ 14  48]]\n",
      "classification report :\n",
      "               precision    recall  f1-score   support\n",
      "\n",
      "           0       0.88      0.86      0.87       117\n",
      "           1       0.75      0.77      0.76        62\n",
      "\n",
      "    accuracy                           0.83       179\n",
      "   macro avg       0.81      0.82      0.82       179\n",
      "weighted avg       0.83      0.83      0.83       179\n",
      "\n"
     ]
    }
   ],
   "source": [
    "print('confusion matrix :''\\n',confusion_matrix(ytest, pred_test))\n",
    "print('classification report :''\\n',classification_report(ytest, pred_test))"
   ]
  },
  {
   "cell_type": "code",
   "execution_count": 539,
   "id": "cbb76473",
   "metadata": {},
   "outputs": [
    {
     "data": {
      "text/html": [
       "<div>\n",
       "<style scoped>\n",
       "    .dataframe tbody tr th:only-of-type {\n",
       "        vertical-align: middle;\n",
       "    }\n",
       "\n",
       "    .dataframe tbody tr th {\n",
       "        vertical-align: top;\n",
       "    }\n",
       "\n",
       "    .dataframe thead th {\n",
       "        text-align: right;\n",
       "    }\n",
       "</style>\n",
       "<table border=\"1\" class=\"dataframe\">\n",
       "  <thead>\n",
       "    <tr style=\"text-align: right;\">\n",
       "      <th></th>\n",
       "      <th>Model</th>\n",
       "      <th>Accuracy</th>\n",
       "      <th>Recall</th>\n",
       "      <th>Precision</th>\n",
       "      <th>F1 Score</th>\n",
       "    </tr>\n",
       "  </thead>\n",
       "  <tbody>\n",
       "    <tr>\n",
       "      <th>0</th>\n",
       "      <td>Logistic Regression</td>\n",
       "      <td>0.826816</td>\n",
       "      <td>0.741935</td>\n",
       "      <td>0.754098</td>\n",
       "      <td>0.747967</td>\n",
       "    </tr>\n",
       "    <tr>\n",
       "      <th>1</th>\n",
       "      <td>Naive Bayes</td>\n",
       "      <td>0.821229</td>\n",
       "      <td>0.758065</td>\n",
       "      <td>0.734375</td>\n",
       "      <td>0.746032</td>\n",
       "    </tr>\n",
       "    <tr>\n",
       "      <th>2</th>\n",
       "      <td>KNN Classifier</td>\n",
       "      <td>0.804469</td>\n",
       "      <td>0.741935</td>\n",
       "      <td>0.707692</td>\n",
       "      <td>0.724409</td>\n",
       "    </tr>\n",
       "    <tr>\n",
       "      <th>3</th>\n",
       "      <td>Decision Tree Classifier</td>\n",
       "      <td>0.782123</td>\n",
       "      <td>0.774194</td>\n",
       "      <td>0.657534</td>\n",
       "      <td>0.711111</td>\n",
       "    </tr>\n",
       "    <tr>\n",
       "      <th>4</th>\n",
       "      <td>Random Forest Classifier</td>\n",
       "      <td>0.832402</td>\n",
       "      <td>0.774194</td>\n",
       "      <td>0.75</td>\n",
       "      <td>0.761905</td>\n",
       "    </tr>\n",
       "  </tbody>\n",
       "</table>\n",
       "</div>"
      ],
      "text/plain": [
       "                      Model  Accuracy    Recall Precision  F1 Score\n",
       "0       Logistic Regression  0.826816  0.741935  0.754098  0.747967\n",
       "1               Naive Bayes  0.821229  0.758065  0.734375  0.746032\n",
       "2            KNN Classifier  0.804469  0.741935  0.707692  0.724409\n",
       "3  Decision Tree Classifier  0.782123  0.774194  0.657534  0.711111\n",
       "4  Random Forest Classifier  0.832402  0.774194      0.75  0.761905"
      ]
     },
     "execution_count": 539,
     "metadata": {},
     "output_type": "execute_result"
    }
   ],
   "source": [
    "update_performance(name = 'Random Forest Classifier', model = model_rf,test=ytest,pred=pred_test)\n",
    "perf_score"
   ]
  },
  {
   "cell_type": "markdown",
   "id": "16313d1b",
   "metadata": {},
   "source": [
    "## XGBoost Classifier"
   ]
  },
  {
   "cell_type": "code",
   "execution_count": 540,
   "id": "40f0b011",
   "metadata": {},
   "outputs": [
    {
     "name": "stdout",
     "output_type": "stream",
     "text": [
      "Requirement already satisfied: xgboost in c:\\users\\subbu\\anaconda3\\lib\\site-packages (2.0.0)\n",
      "Requirement already satisfied: scipy in c:\\users\\subbu\\anaconda3\\lib\\site-packages (from xgboost) (1.10.1)\n",
      "Requirement already satisfied: numpy in c:\\users\\subbu\\anaconda3\\lib\\site-packages (from xgboost) (1.21.5)\n",
      "Note: you may need to restart the kernel to use updated packages.\n"
     ]
    }
   ],
   "source": [
    "pip install xgboost"
   ]
  },
  {
   "cell_type": "code",
   "execution_count": 541,
   "id": "ac429168",
   "metadata": {},
   "outputs": [],
   "source": [
    "from xgboost import XGBClassifier\n",
    "xgb=XGBClassifier(random_state=10)\n",
    "model_xgb=xgb.fit(scaled_train, ytrain)\n",
    "\n",
    "pred_test=model_xgb.predict(scaled_test)"
   ]
  },
  {
   "cell_type": "code",
   "execution_count": 542,
   "id": "75f4d2b9",
   "metadata": {},
   "outputs": [
    {
     "name": "stdout",
     "output_type": "stream",
     "text": [
      "confusion matrix :\n",
      " [[103  14]\n",
      " [ 17  45]]\n",
      "classification report :\n",
      "               precision    recall  f1-score   support\n",
      "\n",
      "           0       0.86      0.88      0.87       117\n",
      "           1       0.76      0.73      0.74        62\n",
      "\n",
      "    accuracy                           0.83       179\n",
      "   macro avg       0.81      0.80      0.81       179\n",
      "weighted avg       0.83      0.83      0.83       179\n",
      "\n"
     ]
    }
   ],
   "source": [
    "print('confusion matrix :''\\n',confusion_matrix(ytest, pred_test))\n",
    "print('classification report :''\\n',classification_report(ytest, pred_test))"
   ]
  },
  {
   "cell_type": "code",
   "execution_count": 543,
   "id": "3d0bb4ab",
   "metadata": {},
   "outputs": [
    {
     "data": {
      "text/html": [
       "<div>\n",
       "<style scoped>\n",
       "    .dataframe tbody tr th:only-of-type {\n",
       "        vertical-align: middle;\n",
       "    }\n",
       "\n",
       "    .dataframe tbody tr th {\n",
       "        vertical-align: top;\n",
       "    }\n",
       "\n",
       "    .dataframe thead th {\n",
       "        text-align: right;\n",
       "    }\n",
       "</style>\n",
       "<table border=\"1\" class=\"dataframe\">\n",
       "  <thead>\n",
       "    <tr style=\"text-align: right;\">\n",
       "      <th></th>\n",
       "      <th>Model</th>\n",
       "      <th>Accuracy</th>\n",
       "      <th>Recall</th>\n",
       "      <th>Precision</th>\n",
       "      <th>F1 Score</th>\n",
       "    </tr>\n",
       "  </thead>\n",
       "  <tbody>\n",
       "    <tr>\n",
       "      <th>0</th>\n",
       "      <td>Logistic Regression</td>\n",
       "      <td>0.826816</td>\n",
       "      <td>0.741935</td>\n",
       "      <td>0.754098</td>\n",
       "      <td>0.747967</td>\n",
       "    </tr>\n",
       "    <tr>\n",
       "      <th>1</th>\n",
       "      <td>Naive Bayes</td>\n",
       "      <td>0.821229</td>\n",
       "      <td>0.758065</td>\n",
       "      <td>0.734375</td>\n",
       "      <td>0.746032</td>\n",
       "    </tr>\n",
       "    <tr>\n",
       "      <th>2</th>\n",
       "      <td>KNN Classifier</td>\n",
       "      <td>0.804469</td>\n",
       "      <td>0.741935</td>\n",
       "      <td>0.707692</td>\n",
       "      <td>0.724409</td>\n",
       "    </tr>\n",
       "    <tr>\n",
       "      <th>3</th>\n",
       "      <td>Decision Tree Classifier</td>\n",
       "      <td>0.782123</td>\n",
       "      <td>0.774194</td>\n",
       "      <td>0.657534</td>\n",
       "      <td>0.711111</td>\n",
       "    </tr>\n",
       "    <tr>\n",
       "      <th>4</th>\n",
       "      <td>Random Forest Classifier</td>\n",
       "      <td>0.832402</td>\n",
       "      <td>0.774194</td>\n",
       "      <td>0.75</td>\n",
       "      <td>0.761905</td>\n",
       "    </tr>\n",
       "    <tr>\n",
       "      <th>5</th>\n",
       "      <td>XGB Classifier</td>\n",
       "      <td>0.826816</td>\n",
       "      <td>0.725806</td>\n",
       "      <td>0.762712</td>\n",
       "      <td>0.743802</td>\n",
       "    </tr>\n",
       "  </tbody>\n",
       "</table>\n",
       "</div>"
      ],
      "text/plain": [
       "                      Model  Accuracy    Recall Precision  F1 Score\n",
       "0       Logistic Regression  0.826816  0.741935  0.754098  0.747967\n",
       "1               Naive Bayes  0.821229  0.758065  0.734375  0.746032\n",
       "2            KNN Classifier  0.804469  0.741935  0.707692  0.724409\n",
       "3  Decision Tree Classifier  0.782123  0.774194  0.657534  0.711111\n",
       "4  Random Forest Classifier  0.832402  0.774194      0.75  0.761905\n",
       "5            XGB Classifier  0.826816  0.725806  0.762712  0.743802"
      ]
     },
     "execution_count": 543,
     "metadata": {},
     "output_type": "execute_result"
    }
   ],
   "source": [
    "update_performance(name = 'XGB Classifier', model = model_xgb,test=ytest,pred=pred_test)\n",
    "perf_score"
   ]
  },
  {
   "cell_type": "code",
   "execution_count": null,
   "id": "9741d39b",
   "metadata": {},
   "outputs": [],
   "source": []
  },
  {
   "cell_type": "markdown",
   "id": "e1c671b1",
   "metadata": {},
   "source": [
    "## Hyper Parameter Tuning"
   ]
  },
  {
   "cell_type": "markdown",
   "id": "e5f09702",
   "metadata": {},
   "source": [
    "Hence, we are getting some good results in Random Forest and XGB algorithms, we are going to hypertune these models.\n",
    "So we can try to improve their performance and can obtain good predictions."
   ]
  },
  {
   "cell_type": "markdown",
   "id": "9c636998",
   "metadata": {},
   "source": [
    "## Tuning XGB Classifier"
   ]
  },
  {
   "cell_type": "code",
   "execution_count": 544,
   "id": "80379499",
   "metadata": {},
   "outputs": [],
   "source": [
    "from xgboost import XGBClassifier\n",
    "xgb=XGBClassifier(random_state=15)"
   ]
  },
  {
   "cell_type": "code",
   "execution_count": 545,
   "id": "6bc45d43",
   "metadata": {},
   "outputs": [],
   "source": [
    "params={'n_estimators':np.arange(1,500), 'learning_rate':[0.01, 0.1, 0.2], 'max_depth':np.arange(2,20),\n",
    "        'min_child_weight':np.arange(2,20),'max_leaves':np.arange(2,20), 'gamma': np.arange(1,5),\n",
    "        'reg_lambda':np.arange(1,5),'subsample': [0.8, 0.9, 1.0],'colsample_bytree': [0.8, 0.9, 1.0]}"
   ]
  },
  {
   "cell_type": "markdown",
   "id": "56dbcb6c",
   "metadata": {},
   "source": [
    "#### Using Randomized Search CV to get optimum parameters to tune the algorithm."
   ]
  },
  {
   "cell_type": "code",
   "execution_count": 546,
   "id": "0039890a",
   "metadata": {},
   "outputs": [
    {
     "name": "stdout",
     "output_type": "stream",
     "text": [
      "Best Hyperparameters: {'subsample': 1.0, 'reg_lambda': 2, 'n_estimators': 369, 'min_child_weight': 2, 'max_leaves': 15, 'max_depth': 3, 'learning_rate': 0.01, 'gamma': 2, 'colsample_bytree': 0.8}\n"
     ]
    }
   ],
   "source": [
    "from sklearn.model_selection import RandomizedSearchCV\n",
    "\n",
    "random_search=RandomizedSearchCV(estimator=xgb, param_distributions=params, scoring='accuracy',cv=5, random_state=10)\n",
    "\n",
    "random_search.fit(scaled_train, ytrain)\n",
    "\n",
    "print(\"Best Hyperparameters:\", random_search.best_params_)"
   ]
  },
  {
   "cell_type": "code",
   "execution_count": 547,
   "id": "cfdababf",
   "metadata": {},
   "outputs": [],
   "source": [
    "from xgboost import XGBClassifier\n",
    "xgb=XGBClassifier(reg_lambda= 2, n_estimators= 495, min_child_weight= 6, max_leaves= 13, \n",
    "                  max_depth=2, gamma= 3,subsample=1.0,colsample_bytree= 0.8, random_state=10)\n",
    "final_model_xgb=xgb.fit(scaled_train, ytrain)\n",
    "\n",
    "pred_test=final_model_xgb.predict(scaled_test)"
   ]
  },
  {
   "cell_type": "code",
   "execution_count": 548,
   "id": "86b6d279",
   "metadata": {},
   "outputs": [
    {
     "name": "stdout",
     "output_type": "stream",
     "text": [
      "confusion matrix :\n",
      " [[108   9]\n",
      " [ 17  45]]\n",
      "classification report :\n",
      "               precision    recall  f1-score   support\n",
      "\n",
      "           0       0.86      0.92      0.89       117\n",
      "           1       0.83      0.73      0.78        62\n",
      "\n",
      "    accuracy                           0.85       179\n",
      "   macro avg       0.85      0.82      0.83       179\n",
      "weighted avg       0.85      0.85      0.85       179\n",
      "\n"
     ]
    }
   ],
   "source": [
    "print('confusion matrix :''\\n',confusion_matrix(ytest, pred_test))\n",
    "print('classification report :''\\n',classification_report(ytest, pred_test))"
   ]
  },
  {
   "cell_type": "code",
   "execution_count": 549,
   "id": "f1541582",
   "metadata": {},
   "outputs": [
    {
     "data": {
      "text/html": [
       "<div>\n",
       "<style scoped>\n",
       "    .dataframe tbody tr th:only-of-type {\n",
       "        vertical-align: middle;\n",
       "    }\n",
       "\n",
       "    .dataframe tbody tr th {\n",
       "        vertical-align: top;\n",
       "    }\n",
       "\n",
       "    .dataframe thead th {\n",
       "        text-align: right;\n",
       "    }\n",
       "</style>\n",
       "<table border=\"1\" class=\"dataframe\">\n",
       "  <thead>\n",
       "    <tr style=\"text-align: right;\">\n",
       "      <th></th>\n",
       "      <th>Model</th>\n",
       "      <th>Accuracy</th>\n",
       "      <th>Recall</th>\n",
       "      <th>Precision</th>\n",
       "      <th>F1 Score</th>\n",
       "    </tr>\n",
       "  </thead>\n",
       "  <tbody>\n",
       "    <tr>\n",
       "      <th>0</th>\n",
       "      <td>Logistic Regression</td>\n",
       "      <td>0.826816</td>\n",
       "      <td>0.741935</td>\n",
       "      <td>0.754098</td>\n",
       "      <td>0.747967</td>\n",
       "    </tr>\n",
       "    <tr>\n",
       "      <th>1</th>\n",
       "      <td>Naive Bayes</td>\n",
       "      <td>0.821229</td>\n",
       "      <td>0.758065</td>\n",
       "      <td>0.734375</td>\n",
       "      <td>0.746032</td>\n",
       "    </tr>\n",
       "    <tr>\n",
       "      <th>2</th>\n",
       "      <td>KNN Classifier</td>\n",
       "      <td>0.804469</td>\n",
       "      <td>0.741935</td>\n",
       "      <td>0.707692</td>\n",
       "      <td>0.724409</td>\n",
       "    </tr>\n",
       "    <tr>\n",
       "      <th>3</th>\n",
       "      <td>Decision Tree Classifier</td>\n",
       "      <td>0.782123</td>\n",
       "      <td>0.774194</td>\n",
       "      <td>0.657534</td>\n",
       "      <td>0.711111</td>\n",
       "    </tr>\n",
       "    <tr>\n",
       "      <th>4</th>\n",
       "      <td>Random Forest Classifier</td>\n",
       "      <td>0.832402</td>\n",
       "      <td>0.774194</td>\n",
       "      <td>0.75</td>\n",
       "      <td>0.761905</td>\n",
       "    </tr>\n",
       "    <tr>\n",
       "      <th>5</th>\n",
       "      <td>XGB Classifier</td>\n",
       "      <td>0.826816</td>\n",
       "      <td>0.725806</td>\n",
       "      <td>0.762712</td>\n",
       "      <td>0.743802</td>\n",
       "    </tr>\n",
       "    <tr>\n",
       "      <th>6</th>\n",
       "      <td>Tuned XGB Classifier</td>\n",
       "      <td>0.854749</td>\n",
       "      <td>0.725806</td>\n",
       "      <td>0.833333</td>\n",
       "      <td>0.775862</td>\n",
       "    </tr>\n",
       "  </tbody>\n",
       "</table>\n",
       "</div>"
      ],
      "text/plain": [
       "                      Model  Accuracy    Recall Precision  F1 Score\n",
       "0       Logistic Regression  0.826816  0.741935  0.754098  0.747967\n",
       "1               Naive Bayes  0.821229  0.758065  0.734375  0.746032\n",
       "2            KNN Classifier  0.804469  0.741935  0.707692  0.724409\n",
       "3  Decision Tree Classifier  0.782123  0.774194  0.657534  0.711111\n",
       "4  Random Forest Classifier  0.832402  0.774194      0.75  0.761905\n",
       "5            XGB Classifier  0.826816  0.725806  0.762712  0.743802\n",
       "6      Tuned XGB Classifier  0.854749  0.725806  0.833333  0.775862"
      ]
     },
     "execution_count": 549,
     "metadata": {},
     "output_type": "execute_result"
    }
   ],
   "source": [
    "update_performance(name = 'Tuned XGB Classifier', model = final_model_xgb,test=ytest,pred=pred_test)\n",
    "perf_score"
   ]
  },
  {
   "cell_type": "markdown",
   "id": "c429bf15",
   "metadata": {},
   "source": [
    "## Tuning Random Forest Classifier"
   ]
  },
  {
   "cell_type": "code",
   "execution_count": 550,
   "id": "1530ae92",
   "metadata": {},
   "outputs": [],
   "source": [
    "from sklearn.ensemble import RandomForestClassifier\n",
    "rf=RandomForestClassifier(random_state=55)"
   ]
  },
  {
   "cell_type": "code",
   "execution_count": 551,
   "id": "9bece249",
   "metadata": {},
   "outputs": [],
   "source": [
    "params={'n_estimators':np.arange(10,500), 'criterion':['gini','entropy'],'max_depth':np.arange(2,20),\n",
    "        'min_samples_split':np.arange(2,20),'max_leaf_nodes':np.arange(2,20), 'min_samples_leaf':np.arange(2,20),\n",
    "        'max_features': ['auto', 'sqrt', 'log2'], 'bootstrap': [True, False]}"
   ]
  },
  {
   "cell_type": "code",
   "execution_count": 552,
   "id": "9f057086",
   "metadata": {},
   "outputs": [
    {
     "name": "stdout",
     "output_type": "stream",
     "text": [
      "Best Hyperparameters: {'n_estimators': 370, 'min_samples_split': 2, 'min_samples_leaf': 8, 'max_leaf_nodes': 11, 'max_features': 'sqrt', 'max_depth': 15, 'criterion': 'gini', 'bootstrap': False}\n"
     ]
    }
   ],
   "source": [
    "from sklearn.model_selection import RandomizedSearchCV\n",
    "\n",
    "random_search=RandomizedSearchCV(estimator=rf, param_distributions=params, scoring='accuracy', cv=5, random_state=15)\n",
    "\n",
    "random_search.fit(scaled_train, ytrain)\n",
    "\n",
    "print(\"Best Hyperparameters:\", random_search.best_params_)"
   ]
  },
  {
   "cell_type": "code",
   "execution_count": 553,
   "id": "a7c4f61c",
   "metadata": {},
   "outputs": [],
   "source": [
    "rf=RandomForestClassifier(n_estimators= 438, min_samples_split= 18, min_samples_leaf= 2,\n",
    "                          max_leaf_nodes= 12, max_depth= 11, criterion='entropy', random_state=55,\n",
    "                          max_features='sqrt', bootstrap=False)\n",
    "\n",
    "tuned_rf_model=rf.fit(scaled_train, ytrain)\n",
    "pred_test=tuned_rf_model.predict(scaled_test)"
   ]
  },
  {
   "cell_type": "code",
   "execution_count": 554,
   "id": "56bffb22",
   "metadata": {},
   "outputs": [
    {
     "name": "stdout",
     "output_type": "stream",
     "text": [
      "confusion matrix :\n",
      " [[109   8]\n",
      " [ 17  45]]\n",
      "classification report :\n",
      "               precision    recall  f1-score   support\n",
      "\n",
      "           0       0.87      0.93      0.90       117\n",
      "           1       0.85      0.73      0.78        62\n",
      "\n",
      "    accuracy                           0.86       179\n",
      "   macro avg       0.86      0.83      0.84       179\n",
      "weighted avg       0.86      0.86      0.86       179\n",
      "\n"
     ]
    }
   ],
   "source": [
    "print('confusion matrix :''\\n',confusion_matrix(ytest, pred_test))\n",
    "print('classification report :''\\n',classification_report(ytest, pred_test))"
   ]
  },
  {
   "cell_type": "code",
   "execution_count": 555,
   "id": "a97eb743",
   "metadata": {
    "scrolled": false
   },
   "outputs": [
    {
     "data": {
      "text/html": [
       "<div>\n",
       "<style scoped>\n",
       "    .dataframe tbody tr th:only-of-type {\n",
       "        vertical-align: middle;\n",
       "    }\n",
       "\n",
       "    .dataframe tbody tr th {\n",
       "        vertical-align: top;\n",
       "    }\n",
       "\n",
       "    .dataframe thead th {\n",
       "        text-align: right;\n",
       "    }\n",
       "</style>\n",
       "<table border=\"1\" class=\"dataframe\">\n",
       "  <thead>\n",
       "    <tr style=\"text-align: right;\">\n",
       "      <th></th>\n",
       "      <th>Model</th>\n",
       "      <th>Accuracy</th>\n",
       "      <th>Recall</th>\n",
       "      <th>Precision</th>\n",
       "      <th>F1 Score</th>\n",
       "    </tr>\n",
       "  </thead>\n",
       "  <tbody>\n",
       "    <tr>\n",
       "      <th>0</th>\n",
       "      <td>Logistic Regression</td>\n",
       "      <td>0.826816</td>\n",
       "      <td>0.741935</td>\n",
       "      <td>0.754098</td>\n",
       "      <td>0.747967</td>\n",
       "    </tr>\n",
       "    <tr>\n",
       "      <th>1</th>\n",
       "      <td>Naive Bayes</td>\n",
       "      <td>0.821229</td>\n",
       "      <td>0.758065</td>\n",
       "      <td>0.734375</td>\n",
       "      <td>0.746032</td>\n",
       "    </tr>\n",
       "    <tr>\n",
       "      <th>2</th>\n",
       "      <td>KNN Classifier</td>\n",
       "      <td>0.804469</td>\n",
       "      <td>0.741935</td>\n",
       "      <td>0.707692</td>\n",
       "      <td>0.724409</td>\n",
       "    </tr>\n",
       "    <tr>\n",
       "      <th>3</th>\n",
       "      <td>Decision Tree Classifier</td>\n",
       "      <td>0.782123</td>\n",
       "      <td>0.774194</td>\n",
       "      <td>0.657534</td>\n",
       "      <td>0.711111</td>\n",
       "    </tr>\n",
       "    <tr>\n",
       "      <th>4</th>\n",
       "      <td>Random Forest Classifier</td>\n",
       "      <td>0.832402</td>\n",
       "      <td>0.774194</td>\n",
       "      <td>0.75</td>\n",
       "      <td>0.761905</td>\n",
       "    </tr>\n",
       "    <tr>\n",
       "      <th>5</th>\n",
       "      <td>XGB Classifier</td>\n",
       "      <td>0.826816</td>\n",
       "      <td>0.725806</td>\n",
       "      <td>0.762712</td>\n",
       "      <td>0.743802</td>\n",
       "    </tr>\n",
       "    <tr>\n",
       "      <th>6</th>\n",
       "      <td>Tuned XGB Classifier</td>\n",
       "      <td>0.854749</td>\n",
       "      <td>0.725806</td>\n",
       "      <td>0.833333</td>\n",
       "      <td>0.775862</td>\n",
       "    </tr>\n",
       "    <tr>\n",
       "      <th>7</th>\n",
       "      <td>Tuned Random Forest</td>\n",
       "      <td>0.860335</td>\n",
       "      <td>0.725806</td>\n",
       "      <td>0.849057</td>\n",
       "      <td>0.782609</td>\n",
       "    </tr>\n",
       "  </tbody>\n",
       "</table>\n",
       "</div>"
      ],
      "text/plain": [
       "                      Model  Accuracy    Recall Precision  F1 Score\n",
       "0       Logistic Regression  0.826816  0.741935  0.754098  0.747967\n",
       "1               Naive Bayes  0.821229  0.758065  0.734375  0.746032\n",
       "2            KNN Classifier  0.804469  0.741935  0.707692  0.724409\n",
       "3  Decision Tree Classifier  0.782123  0.774194  0.657534  0.711111\n",
       "4  Random Forest Classifier  0.832402  0.774194      0.75  0.761905\n",
       "5            XGB Classifier  0.826816  0.725806  0.762712  0.743802\n",
       "6      Tuned XGB Classifier  0.854749  0.725806  0.833333  0.775862\n",
       "7       Tuned Random Forest  0.860335  0.725806  0.849057  0.782609"
      ]
     },
     "execution_count": 555,
     "metadata": {},
     "output_type": "execute_result"
    }
   ],
   "source": [
    "update_performance(name = 'Tuned Random Forest', model = tuned_rf_model,test=ytest,pred=pred_test)\n",
    "perf_score"
   ]
  },
  {
   "cell_type": "markdown",
   "id": "e177ab3b",
   "metadata": {},
   "source": [
    "#### Predictions for the test data"
   ]
  },
  {
   "cell_type": "code",
   "execution_count": 556,
   "id": "25e3f47d",
   "metadata": {},
   "outputs": [
    {
     "data": {
      "text/plain": [
       "array([0, 0, 0, 1, 1, 0, 0, 0, 0, 0, 0, 1, 1, 0, 0, 0, 0, 0, 0, 0, 0, 0,\n",
       "       1, 0, 0, 0, 0, 1, 0, 1, 1, 0, 1, 0, 1, 0, 0, 0, 0, 0, 0, 0, 0, 0,\n",
       "       0, 0, 0, 0, 1, 0, 0, 0, 0, 0, 1, 1, 0, 1, 1, 0, 0, 1, 1, 1, 0, 0,\n",
       "       0, 0, 0, 1, 0, 0, 0, 0, 1, 0, 0, 0, 0, 0, 0, 0, 0, 1, 1, 0, 1, 1,\n",
       "       0, 1, 0, 0, 0, 0, 1, 0, 0, 0, 1, 0, 1, 0, 0, 0, 1, 1, 0, 1, 1, 0,\n",
       "       1, 0, 1, 0, 0, 0, 0, 1, 0, 0, 1, 0, 1, 0, 0, 1, 1, 0, 0, 1, 1, 0,\n",
       "       0, 1, 1, 0, 0, 0, 1, 0, 1, 0, 0, 0, 0, 0, 0, 0, 0, 0, 0, 0, 1, 0,\n",
       "       0, 1, 0, 0, 0, 0, 0, 1, 1, 0, 0, 0, 0, 0, 1, 0, 1, 1, 0, 1, 0, 0,\n",
       "       0, 0, 0], dtype=int64)"
      ]
     },
     "execution_count": 556,
     "metadata": {},
     "output_type": "execute_result"
    }
   ],
   "source": [
    "tuned_rf_model.predict(scaled_test)"
   ]
  },
  {
   "cell_type": "markdown",
   "id": "968c1086",
   "metadata": {},
   "source": [
    "### Confusion Matrix"
   ]
  },
  {
   "cell_type": "code",
   "execution_count": 557,
   "id": "18e71c35",
   "metadata": {},
   "outputs": [],
   "source": [
    "cm=confusion_matrix(ytest, pred_test)"
   ]
  },
  {
   "cell_type": "code",
   "execution_count": 558,
   "id": "f226ef4a",
   "metadata": {},
   "outputs": [
    {
     "data": {
      "image/png": "[encoded data removed]",
      "text/plain": [
       "<Figure size 720x432 with 2 Axes>"
      ]
     },
     "metadata": {
      "needs_background": "light"
     },
     "output_type": "display_data"
    }
   ],
   "source": [
    "plt.figure(figsize=(10, 6))\n",
    "conf_matrix = pd.DataFrame(data = cm,columns = ['Predicted:0','Predicted:1'], index = ['Actual:0','Actual:1'])\n",
    "sns.heatmap(conf_matrix,fmt='d' ,annot=True, cmap='OrRd')\n",
    "plt.show()"
   ]
  },
  {
   "cell_type": "markdown",
   "id": "c548d92c",
   "metadata": {},
   "source": [
    "### ROC Curve"
   ]
  },
  {
   "cell_type": "code",
   "execution_count": 559,
   "id": "359f82a8",
   "metadata": {},
   "outputs": [],
   "source": [
    "from sklearn.metrics import roc_curve\n",
    "fpr, tpr, threshold=roc_curve(ytest,pred_proba)"
   ]
  },
  {
   "cell_type": "code",
   "execution_count": 560,
   "id": "55363adc",
   "metadata": {},
   "outputs": [
    {
     "name": "stdout",
     "output_type": "stream",
     "text": [
      "0.8698649021229666\n"
     ]
    },
    {
     "data": {
      "image/png": "[encoded data removed]",
      "text/plain": [
       "<Figure size 720x432 with 1 Axes>"
      ]
     },
     "metadata": {
      "needs_background": "light"
     },
     "output_type": "display_data"
    }
   ],
   "source": [
    "plt.figure(figsize=(10, 6))\n",
    "plt.plot(fpr,tpr)\n",
    "plt.xlabel('FPR')\n",
    "plt.ylabel('TPR')\n",
    "\n",
    "print(roc_auc_score(ytest,pred_proba))       #Hence we are looking for class 1(survived)"
   ]
  },
  {
   "cell_type": "markdown",
   "id": "c5aad86e",
   "metadata": {},
   "source": [
    "The separability between then classes(0 and 1) is also good."
   ]
  },
  {
   "cell_type": "markdown",
   "id": "2536d2f7",
   "metadata": {},
   "source": [
    "### Kohen Kappa Score"
   ]
  },
  {
   "cell_type": "code",
   "execution_count": 561,
   "id": "fddfcaf9",
   "metadata": {
    "scrolled": true
   },
   "outputs": [
    {
     "name": "stdout",
     "output_type": "stream",
     "text": [
      "0.6806536787268964\n"
     ]
    }
   ],
   "source": [
    "from sklearn.metrics import cohen_kappa_score\n",
    "print(cohen_kappa_score(ytest,pred_test))"
   ]
  },
  {
   "cell_type": "markdown",
   "id": "4e9954f1",
   "metadata": {},
   "source": [
    "Kohen kappa score is 0.68 this means the model is very much reliable."
   ]
  },
  {
   "cell_type": "markdown",
   "id": "62e504ab",
   "metadata": {},
   "source": [
    "#### After performing the different algorithms, we got some good results for random forest and xgboost.\n",
    "#### So, we have tuned the both models to increase the performance."
   ]
  },
  {
   "cell_type": "markdown",
   "id": "66114097",
   "metadata": {},
   "source": [
    "# After tuning, Random Forest Classifier performed well with increased accuracy upto 86%."
   ]
  },
  {
   "cell_type": "markdown",
   "id": "9e7983e4",
   "metadata": {},
   "source": [
    "#### This score of 86% is a good score. So we can conclude Random Forest Classifier is the best model \n",
    "#### for the data with 86% accuracy score"
   ]
  },
  {
   "cell_type": "markdown",
   "id": "e0d23006",
   "metadata": {},
   "source": [
    "## Best Features"
   ]
  },
  {
   "cell_type": "code",
   "execution_count": 562,
   "id": "678a882e",
   "metadata": {
    "scrolled": false
   },
   "outputs": [
    {
     "data": {
      "text/html": [
       "<div>\n",
       "<style scoped>\n",
       "    .dataframe tbody tr th:only-of-type {\n",
       "        vertical-align: middle;\n",
       "    }\n",
       "\n",
       "    .dataframe tbody tr th {\n",
       "        vertical-align: top;\n",
       "    }\n",
       "\n",
       "    .dataframe thead th {\n",
       "        text-align: right;\n",
       "    }\n",
       "</style>\n",
       "<table border=\"1\" class=\"dataframe\">\n",
       "  <thead>\n",
       "    <tr style=\"text-align: right;\">\n",
       "      <th></th>\n",
       "      <th>feature</th>\n",
       "      <th>importance</th>\n",
       "    </tr>\n",
       "  </thead>\n",
       "  <tbody>\n",
       "    <tr>\n",
       "      <th>1</th>\n",
       "      <td>Sex</td>\n",
       "      <td>0.475</td>\n",
       "    </tr>\n",
       "    <tr>\n",
       "      <th>0</th>\n",
       "      <td>Pclass</td>\n",
       "      <td>0.167</td>\n",
       "    </tr>\n",
       "    <tr>\n",
       "      <th>5</th>\n",
       "      <td>Fare</td>\n",
       "      <td>0.153</td>\n",
       "    </tr>\n",
       "    <tr>\n",
       "      <th>2</th>\n",
       "      <td>Age</td>\n",
       "      <td>0.080</td>\n",
       "    </tr>\n",
       "    <tr>\n",
       "      <th>3</th>\n",
       "      <td>SibSp</td>\n",
       "      <td>0.062</td>\n",
       "    </tr>\n",
       "    <tr>\n",
       "      <th>6</th>\n",
       "      <td>Embarked</td>\n",
       "      <td>0.032</td>\n",
       "    </tr>\n",
       "    <tr>\n",
       "      <th>4</th>\n",
       "      <td>Parch</td>\n",
       "      <td>0.030</td>\n",
       "    </tr>\n",
       "  </tbody>\n",
       "</table>\n",
       "</div>"
      ],
      "text/plain": [
       "    feature  importance\n",
       "1       Sex       0.475\n",
       "0    Pclass       0.167\n",
       "5      Fare       0.153\n",
       "2       Age       0.080\n",
       "3     SibSp       0.062\n",
       "6  Embarked       0.032\n",
       "4     Parch       0.030"
      ]
     },
     "execution_count": 562,
     "metadata": {},
     "output_type": "execute_result"
    }
   ],
   "source": [
    "importances = pd.DataFrame({'feature': x.columns, 'importance': np.round(tuned_rf_model.feature_importances_, 3)})\n",
    "importances = importances.sort_values('importance', ascending=False)\n",
    "importances"
   ]
  },
  {
   "cell_type": "code",
   "execution_count": 563,
   "id": "48bf5f47",
   "metadata": {},
   "outputs": [
    {
     "data": {
      "image/png": "[encoded data removed]",
      "text/plain": [
       "<Figure size 720x432 with 1 Axes>"
      ]
     },
     "metadata": {
      "needs_background": "light"
     },
     "output_type": "display_data"
    }
   ],
   "source": [
    "plt.figure(figsize=(10, 6))\n",
    "plt.bar(importances['feature'], importances['importance'], color='lawngreen')\n",
    "plt.xlabel('Features')\n",
    "plt.ylabel('Importance')\n",
    "plt.title('Feature Importance Scores')\n",
    "plt.show()"
   ]
  },
  {
   "cell_type": "markdown",
   "id": "2a455d8e",
   "metadata": {},
   "source": [
    "The top 5 important featutres in predicting the target are Sex, Pclass, Fare, Age and SibSp"
   ]
  },
  {
   "cell_type": "markdown",
   "id": "fba434f4",
   "metadata": {},
   "source": [
    "# ---------------------------THE END--------------------------------"
   ]
  }
 ],
 "metadata": {
  "kernelspec": {
   "display_name": "Python 3 (ipykernel)",
   "language": "python",
   "name": "python3"
  },
  "language_info": {
   "codemirror_mode": {
    "name": "ipython",
    "version": 3
   },
   "file_extension": ".py",
   "mimetype": "text/x-python",
   "name": "python",
   "nbconvert_exporter": "python",
   "pygments_lexer": "ipython3",
   "version": "3.9.12"
  }
 },
 "nbformat": 4,
 "nbformat_minor": 5
}
